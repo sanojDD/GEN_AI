{
  "nbformat": 4,
  "nbformat_minor": 0,
  "metadata": {
    "colab": {
      "provenance": [],
      "gpuType": "T4"
    },
    "kernelspec": {
      "name": "python3",
      "display_name": "Python 3"
    },
    "language_info": {
      "name": "python"
    },
    "accelerator": "GPU"
  },
  "cells": [
    {
      "cell_type": "code",
      "metadata": {
        "colab": {
          "base_uri": "https://localhost:8080/"
        },
        "id": "bfcd3ce2",
        "outputId": "554cb99a-8dab-4b77-b5eb-010df20cc8a8"
      },
      "source": [
        "!pip install -q langchain langchain-community google-generativeai"
      ],
      "execution_count": 1,
      "outputs": [
        {
          "output_type": "stream",
          "name": "stdout",
          "text": [
            "\u001b[?25l   \u001b[90m━━━━━━━━━━━━━━━━━━━━━━━━━━━━━━━━━━━━━━━━\u001b[0m \u001b[32m0.0/2.5 MB\u001b[0m \u001b[31m?\u001b[0m eta \u001b[36m-:--:--\u001b[0m\r\u001b[2K   \u001b[91m━━━━━━━━━━━━━━━━━━━━━━━━━━━━━━━\u001b[0m\u001b[90m╺\u001b[0m\u001b[90m━━━━━━━━\u001b[0m \u001b[32m2.0/2.5 MB\u001b[0m \u001b[31m65.9 MB/s\u001b[0m eta \u001b[36m0:00:01\u001b[0m\r\u001b[2K   \u001b[91m━━━━━━━━━━━━━━━━━━━━━━━━━━━━━━━━━━━━━━━\u001b[0m\u001b[91m╸\u001b[0m \u001b[32m2.5/2.5 MB\u001b[0m \u001b[31m53.7 MB/s\u001b[0m eta \u001b[36m0:00:01\u001b[0m\r\u001b[2K   \u001b[90m━━━━━━━━━━━━━━━━━━━━━━━━━━━━━━━━━━━━━━━━\u001b[0m \u001b[32m2.5/2.5 MB\u001b[0m \u001b[31m36.0 MB/s\u001b[0m eta \u001b[36m0:00:00\u001b[0m\n",
            "\u001b[?25h\u001b[?25l   \u001b[90m━━━━━━━━━━━━━━━━━━━━━━━━━━━━━━━━━━━━━━━━\u001b[0m \u001b[32m0.0/45.2 kB\u001b[0m \u001b[31m?\u001b[0m eta \u001b[36m-:--:--\u001b[0m\r\u001b[2K   \u001b[90m━━━━━━━━━━━━━━━━━━━━━━━━━━━━━━━━━━━━━━━━\u001b[0m \u001b[32m45.2/45.2 kB\u001b[0m \u001b[31m2.6 MB/s\u001b[0m eta \u001b[36m0:00:00\u001b[0m\n",
            "\u001b[?25h\u001b[?25l   \u001b[90m━━━━━━━━━━━━━━━━━━━━━━━━━━━━━━━━━━━━━━━━\u001b[0m \u001b[32m0.0/50.9 kB\u001b[0m \u001b[31m?\u001b[0m eta \u001b[36m-:--:--\u001b[0m\r\u001b[2K   \u001b[90m━━━━━━━━━━━━━━━━━━━━━━━━━━━━━━━━━━━━━━━━\u001b[0m \u001b[32m50.9/50.9 kB\u001b[0m \u001b[31m3.2 MB/s\u001b[0m eta \u001b[36m0:00:00\u001b[0m\n",
            "\u001b[?25h"
          ]
        }
      ]
    },
    {
      "cell_type": "code",
      "source": [
        "!pip install langchain-google-genai"
      ],
      "metadata": {
        "colab": {
          "base_uri": "https://localhost:8080/",
          "height": 1000
        },
        "id": "u5V5o9dlUZOV",
        "outputId": "737dab59-4ebb-400f-cd56-719f82d6b4fd"
      },
      "execution_count": 2,
      "outputs": [
        {
          "output_type": "stream",
          "name": "stdout",
          "text": [
            "Collecting langchain-google-genai\n",
            "  Downloading langchain_google_genai-2.1.7-py3-none-any.whl.metadata (7.0 kB)\n",
            "Collecting filetype<2.0.0,>=1.2.0 (from langchain-google-genai)\n",
            "  Downloading filetype-1.2.0-py2.py3-none-any.whl.metadata (6.5 kB)\n",
            "Collecting google-ai-generativelanguage<0.7.0,>=0.6.18 (from langchain-google-genai)\n",
            "  Downloading google_ai_generativelanguage-0.6.18-py3-none-any.whl.metadata (9.8 kB)\n",
            "Requirement already satisfied: langchain-core<0.4.0,>=0.3.68 in /usr/local/lib/python3.11/dist-packages (from langchain-google-genai) (0.3.68)\n",
            "Requirement already satisfied: pydantic<3,>=2 in /usr/local/lib/python3.11/dist-packages (from langchain-google-genai) (2.11.7)\n",
            "Requirement already satisfied: google-api-core!=2.0.*,!=2.1.*,!=2.10.*,!=2.2.*,!=2.3.*,!=2.4.*,!=2.5.*,!=2.6.*,!=2.7.*,!=2.8.*,!=2.9.*,<3.0.0,>=1.34.1 in /usr/local/lib/python3.11/dist-packages (from google-api-core[grpc]!=2.0.*,!=2.1.*,!=2.10.*,!=2.2.*,!=2.3.*,!=2.4.*,!=2.5.*,!=2.6.*,!=2.7.*,!=2.8.*,!=2.9.*,<3.0.0,>=1.34.1->google-ai-generativelanguage<0.7.0,>=0.6.18->langchain-google-genai) (2.25.1)\n",
            "Requirement already satisfied: google-auth!=2.24.0,!=2.25.0,<3.0.0,>=2.14.1 in /usr/local/lib/python3.11/dist-packages (from google-ai-generativelanguage<0.7.0,>=0.6.18->langchain-google-genai) (2.38.0)\n",
            "Requirement already satisfied: proto-plus<2.0.0,>=1.22.3 in /usr/local/lib/python3.11/dist-packages (from google-ai-generativelanguage<0.7.0,>=0.6.18->langchain-google-genai) (1.26.1)\n",
            "Requirement already satisfied: protobuf!=4.21.0,!=4.21.1,!=4.21.2,!=4.21.3,!=4.21.4,!=4.21.5,<7.0.0,>=3.20.2 in /usr/local/lib/python3.11/dist-packages (from google-ai-generativelanguage<0.7.0,>=0.6.18->langchain-google-genai) (5.29.5)\n",
            "Requirement already satisfied: langsmith>=0.3.45 in /usr/local/lib/python3.11/dist-packages (from langchain-core<0.4.0,>=0.3.68->langchain-google-genai) (0.4.4)\n",
            "Requirement already satisfied: tenacity!=8.4.0,<10.0.0,>=8.1.0 in /usr/local/lib/python3.11/dist-packages (from langchain-core<0.4.0,>=0.3.68->langchain-google-genai) (8.5.0)\n",
            "Requirement already satisfied: jsonpatch<2.0,>=1.33 in /usr/local/lib/python3.11/dist-packages (from langchain-core<0.4.0,>=0.3.68->langchain-google-genai) (1.33)\n",
            "Requirement already satisfied: PyYAML>=5.3 in /usr/local/lib/python3.11/dist-packages (from langchain-core<0.4.0,>=0.3.68->langchain-google-genai) (6.0.2)\n",
            "Requirement already satisfied: packaging<25,>=23.2 in /usr/local/lib/python3.11/dist-packages (from langchain-core<0.4.0,>=0.3.68->langchain-google-genai) (24.2)\n",
            "Requirement already satisfied: typing-extensions>=4.7 in /usr/local/lib/python3.11/dist-packages (from langchain-core<0.4.0,>=0.3.68->langchain-google-genai) (4.14.1)\n",
            "Requirement already satisfied: annotated-types>=0.6.0 in /usr/local/lib/python3.11/dist-packages (from pydantic<3,>=2->langchain-google-genai) (0.7.0)\n",
            "Requirement already satisfied: pydantic-core==2.33.2 in /usr/local/lib/python3.11/dist-packages (from pydantic<3,>=2->langchain-google-genai) (2.33.2)\n",
            "Requirement already satisfied: typing-inspection>=0.4.0 in /usr/local/lib/python3.11/dist-packages (from pydantic<3,>=2->langchain-google-genai) (0.4.1)\n",
            "Requirement already satisfied: googleapis-common-protos<2.0.0,>=1.56.2 in /usr/local/lib/python3.11/dist-packages (from google-api-core!=2.0.*,!=2.1.*,!=2.10.*,!=2.2.*,!=2.3.*,!=2.4.*,!=2.5.*,!=2.6.*,!=2.7.*,!=2.8.*,!=2.9.*,<3.0.0,>=1.34.1->google-api-core[grpc]!=2.0.*,!=2.1.*,!=2.10.*,!=2.2.*,!=2.3.*,!=2.4.*,!=2.5.*,!=2.6.*,!=2.7.*,!=2.8.*,!=2.9.*,<3.0.0,>=1.34.1->google-ai-generativelanguage<0.7.0,>=0.6.18->langchain-google-genai) (1.70.0)\n",
            "Requirement already satisfied: requests<3.0.0,>=2.18.0 in /usr/local/lib/python3.11/dist-packages (from google-api-core!=2.0.*,!=2.1.*,!=2.10.*,!=2.2.*,!=2.3.*,!=2.4.*,!=2.5.*,!=2.6.*,!=2.7.*,!=2.8.*,!=2.9.*,<3.0.0,>=1.34.1->google-api-core[grpc]!=2.0.*,!=2.1.*,!=2.10.*,!=2.2.*,!=2.3.*,!=2.4.*,!=2.5.*,!=2.6.*,!=2.7.*,!=2.8.*,!=2.9.*,<3.0.0,>=1.34.1->google-ai-generativelanguage<0.7.0,>=0.6.18->langchain-google-genai) (2.32.3)\n",
            "Requirement already satisfied: grpcio<2.0.0,>=1.33.2 in /usr/local/lib/python3.11/dist-packages (from google-api-core[grpc]!=2.0.*,!=2.1.*,!=2.10.*,!=2.2.*,!=2.3.*,!=2.4.*,!=2.5.*,!=2.6.*,!=2.7.*,!=2.8.*,!=2.9.*,<3.0.0,>=1.34.1->google-ai-generativelanguage<0.7.0,>=0.6.18->langchain-google-genai) (1.73.1)\n",
            "Requirement already satisfied: grpcio-status<2.0.0,>=1.33.2 in /usr/local/lib/python3.11/dist-packages (from google-api-core[grpc]!=2.0.*,!=2.1.*,!=2.10.*,!=2.2.*,!=2.3.*,!=2.4.*,!=2.5.*,!=2.6.*,!=2.7.*,!=2.8.*,!=2.9.*,<3.0.0,>=1.34.1->google-ai-generativelanguage<0.7.0,>=0.6.18->langchain-google-genai) (1.71.2)\n",
            "Requirement already satisfied: cachetools<6.0,>=2.0.0 in /usr/local/lib/python3.11/dist-packages (from google-auth!=2.24.0,!=2.25.0,<3.0.0,>=2.14.1->google-ai-generativelanguage<0.7.0,>=0.6.18->langchain-google-genai) (5.5.2)\n",
            "Requirement already satisfied: pyasn1-modules>=0.2.1 in /usr/local/lib/python3.11/dist-packages (from google-auth!=2.24.0,!=2.25.0,<3.0.0,>=2.14.1->google-ai-generativelanguage<0.7.0,>=0.6.18->langchain-google-genai) (0.4.2)\n",
            "Requirement already satisfied: rsa<5,>=3.1.4 in /usr/local/lib/python3.11/dist-packages (from google-auth!=2.24.0,!=2.25.0,<3.0.0,>=2.14.1->google-ai-generativelanguage<0.7.0,>=0.6.18->langchain-google-genai) (4.9.1)\n",
            "Requirement already satisfied: jsonpointer>=1.9 in /usr/local/lib/python3.11/dist-packages (from jsonpatch<2.0,>=1.33->langchain-core<0.4.0,>=0.3.68->langchain-google-genai) (3.0.0)\n",
            "Requirement already satisfied: httpx<1,>=0.23.0 in /usr/local/lib/python3.11/dist-packages (from langsmith>=0.3.45->langchain-core<0.4.0,>=0.3.68->langchain-google-genai) (0.28.1)\n",
            "Requirement already satisfied: orjson<4.0.0,>=3.9.14 in /usr/local/lib/python3.11/dist-packages (from langsmith>=0.3.45->langchain-core<0.4.0,>=0.3.68->langchain-google-genai) (3.10.18)\n",
            "Requirement already satisfied: requests-toolbelt<2.0.0,>=1.0.0 in /usr/local/lib/python3.11/dist-packages (from langsmith>=0.3.45->langchain-core<0.4.0,>=0.3.68->langchain-google-genai) (1.0.0)\n",
            "Requirement already satisfied: zstandard<0.24.0,>=0.23.0 in /usr/local/lib/python3.11/dist-packages (from langsmith>=0.3.45->langchain-core<0.4.0,>=0.3.68->langchain-google-genai) (0.23.0)\n",
            "Requirement already satisfied: anyio in /usr/local/lib/python3.11/dist-packages (from httpx<1,>=0.23.0->langsmith>=0.3.45->langchain-core<0.4.0,>=0.3.68->langchain-google-genai) (4.9.0)\n",
            "Requirement already satisfied: certifi in /usr/local/lib/python3.11/dist-packages (from httpx<1,>=0.23.0->langsmith>=0.3.45->langchain-core<0.4.0,>=0.3.68->langchain-google-genai) (2025.6.15)\n",
            "Requirement already satisfied: httpcore==1.* in /usr/local/lib/python3.11/dist-packages (from httpx<1,>=0.23.0->langsmith>=0.3.45->langchain-core<0.4.0,>=0.3.68->langchain-google-genai) (1.0.9)\n",
            "Requirement already satisfied: idna in /usr/local/lib/python3.11/dist-packages (from httpx<1,>=0.23.0->langsmith>=0.3.45->langchain-core<0.4.0,>=0.3.68->langchain-google-genai) (3.10)\n",
            "Requirement already satisfied: h11>=0.16 in /usr/local/lib/python3.11/dist-packages (from httpcore==1.*->httpx<1,>=0.23.0->langsmith>=0.3.45->langchain-core<0.4.0,>=0.3.68->langchain-google-genai) (0.16.0)\n",
            "Requirement already satisfied: pyasn1<0.7.0,>=0.6.1 in /usr/local/lib/python3.11/dist-packages (from pyasn1-modules>=0.2.1->google-auth!=2.24.0,!=2.25.0,<3.0.0,>=2.14.1->google-ai-generativelanguage<0.7.0,>=0.6.18->langchain-google-genai) (0.6.1)\n",
            "Requirement already satisfied: charset-normalizer<4,>=2 in /usr/local/lib/python3.11/dist-packages (from requests<3.0.0,>=2.18.0->google-api-core!=2.0.*,!=2.1.*,!=2.10.*,!=2.2.*,!=2.3.*,!=2.4.*,!=2.5.*,!=2.6.*,!=2.7.*,!=2.8.*,!=2.9.*,<3.0.0,>=1.34.1->google-api-core[grpc]!=2.0.*,!=2.1.*,!=2.10.*,!=2.2.*,!=2.3.*,!=2.4.*,!=2.5.*,!=2.6.*,!=2.7.*,!=2.8.*,!=2.9.*,<3.0.0,>=1.34.1->google-ai-generativelanguage<0.7.0,>=0.6.18->langchain-google-genai) (3.4.2)\n",
            "Requirement already satisfied: urllib3<3,>=1.21.1 in /usr/local/lib/python3.11/dist-packages (from requests<3.0.0,>=2.18.0->google-api-core!=2.0.*,!=2.1.*,!=2.10.*,!=2.2.*,!=2.3.*,!=2.4.*,!=2.5.*,!=2.6.*,!=2.7.*,!=2.8.*,!=2.9.*,<3.0.0,>=1.34.1->google-api-core[grpc]!=2.0.*,!=2.1.*,!=2.10.*,!=2.2.*,!=2.3.*,!=2.4.*,!=2.5.*,!=2.6.*,!=2.7.*,!=2.8.*,!=2.9.*,<3.0.0,>=1.34.1->google-ai-generativelanguage<0.7.0,>=0.6.18->langchain-google-genai) (2.4.0)\n",
            "Requirement already satisfied: sniffio>=1.1 in /usr/local/lib/python3.11/dist-packages (from anyio->httpx<1,>=0.23.0->langsmith>=0.3.45->langchain-core<0.4.0,>=0.3.68->langchain-google-genai) (1.3.1)\n",
            "Downloading langchain_google_genai-2.1.7-py3-none-any.whl (47 kB)\n",
            "\u001b[2K   \u001b[90m━━━━━━━━━━━━━━━━━━━━━━━━━━━━━━━━━━━━━━━━\u001b[0m \u001b[32m47.4/47.4 kB\u001b[0m \u001b[31m2.5 MB/s\u001b[0m eta \u001b[36m0:00:00\u001b[0m\n",
            "\u001b[?25hDownloading filetype-1.2.0-py2.py3-none-any.whl (19 kB)\n",
            "Downloading google_ai_generativelanguage-0.6.18-py3-none-any.whl (1.4 MB)\n",
            "\u001b[2K   \u001b[90m━━━━━━━━━━━━━━━━━━━━━━━━━━━━━━━━━━━━━━━━\u001b[0m \u001b[32m1.4/1.4 MB\u001b[0m \u001b[31m33.6 MB/s\u001b[0m eta \u001b[36m0:00:00\u001b[0m\n",
            "\u001b[?25hInstalling collected packages: filetype, google-ai-generativelanguage, langchain-google-genai\n",
            "  Attempting uninstall: google-ai-generativelanguage\n",
            "    Found existing installation: google-ai-generativelanguage 0.6.15\n",
            "    Uninstalling google-ai-generativelanguage-0.6.15:\n",
            "      Successfully uninstalled google-ai-generativelanguage-0.6.15\n",
            "\u001b[31mERROR: pip's dependency resolver does not currently take into account all the packages that are installed. This behaviour is the source of the following dependency conflicts.\n",
            "google-generativeai 0.8.5 requires google-ai-generativelanguage==0.6.15, but you have google-ai-generativelanguage 0.6.18 which is incompatible.\u001b[0m\u001b[31m\n",
            "\u001b[0mSuccessfully installed filetype-1.2.0 google-ai-generativelanguage-0.6.18 langchain-google-genai-2.1.7\n"
          ]
        },
        {
          "output_type": "display_data",
          "data": {
            "application/vnd.colab-display-data+json": {
              "pip_warning": {
                "packages": [
                  "google"
                ]
              },
              "id": "da8f00d6efa34166a5cb2bd0386c6f5e"
            }
          },
          "metadata": {}
        }
      ]
    },
    {
      "cell_type": "code",
      "source": [
        "import os\n",
        "from google.colab import userdata\n",
        "\n",
        "# Access the API key from Colab's Secrets Manager\n",
        "os.environ[\"GOOGLE_API_KEY\"] = userdata.get('GOOGLE_API_KEY')"
      ],
      "metadata": {
        "id": "fHzfN53SU4MG"
      },
      "execution_count": 3,
      "outputs": []
    },
    {
      "cell_type": "code",
      "source": [
        "from langchain_google_genai import ChatGoogleGenerativeAI\n",
        "model = ChatGoogleGenerativeAI(model=\"gemini-1.5-flash-latest\", temperature=0.5)"
      ],
      "metadata": {
        "id": "PwMH4GNwVDk3"
      },
      "execution_count": 4,
      "outputs": []
    },
    {
      "cell_type": "code",
      "source": [
        "from langchain_core.prompts import PromptTemplate"
      ],
      "metadata": {
        "id": "jOi7XPykVMNC"
      },
      "execution_count": 5,
      "outputs": []
    },
    {
      "cell_type": "code",
      "source": [
        "# first prompt\n",
        "\n",
        "template1 = PromptTemplate(\n",
        "    template=\"Write a detailed report on the following topic: {topic}\",\n",
        "    input_variables=[\"topic\"],\n",
        ")\n",
        "\n",
        "\n",
        "# second prompt\n",
        "template2 = PromptTemplate(\n",
        "    template=\"write a 5 lines summary  on the following text . /n {text}\",\n",
        "    input_variables=[\"text\"]\n",
        ")\n",
        "\n",
        "\n",
        "prompt1 = template1.invoke({\"topic\":\"BLack hole\"})\n",
        "\n",
        "result = model.invoke(prompt1)\n",
        "\n",
        "prompt2 = template2.invoke({\"text\":result.content})\n",
        "\n",
        "result2 = model.invoke(prompt2)\n",
        "\n",
        "\n",
        "print(result.content)"
      ],
      "metadata": {
        "colab": {
          "base_uri": "https://localhost:8080/"
        },
        "id": "JvaPUH4mVbmP",
        "outputId": "1b1944f8-a7c9-40cd-a7ed-81d778e0de80"
      },
      "execution_count": null,
      "outputs": [
        {
          "output_type": "stream",
          "name": "stdout",
          "text": [
            "## Black Holes: A Comprehensive Report\n",
            "\n",
            "Black holes are among the most fascinating and enigmatic objects in the universe.  Their extreme gravity prevents even light from escaping, making them invisible to direct observation. However, their gravitational influence on surrounding matter provides strong evidence for their existence and allows astronomers to study their properties. This report will delve into various aspects of black holes, from their formation and characteristics to their impact on the universe.\n",
            "\n",
            "**I. Formation of Black Holes:**\n",
            "\n",
            "Black holes are formed from the remnants of massive stars.  When a star many times more massive than our Sun exhausts its nuclear fuel, it can no longer support itself against its own gravity.  This leads to a catastrophic collapse, resulting in a supernova explosion.  If the remaining stellar core is sufficiently massive (generally more than about three times the mass of the Sun), even the immense pressure of degenerate matter (electrons and neutrons) cannot withstand the gravitational pull.  The core continues to collapse, eventually forming a singularity – a point of infinite density and zero volume.  This singularity is surrounded by an event horizon, a boundary beyond which nothing, not even light, can escape.\n",
            "\n",
            "**II. Characteristics of Black Holes:**\n",
            "\n",
            "Several key characteristics define a black hole:\n",
            "\n",
            "* **Singularity:** The central point of infinite density.  Our current understanding of physics breaks down at the singularity, making it a subject of much theoretical investigation.\n",
            "* **Event Horizon:** The boundary around the singularity.  The radius of the event horizon, known as the Schwarzschild radius, is determined by the black hole's mass.  Anything crossing the event horizon is inevitably pulled into the singularity.\n",
            "* **Mass:** Black holes can range in mass from a few solar masses (stellar-mass black holes) to billions of solar masses (supermassive black holes).\n",
            "* **Spin (Angular Momentum):** Most, if not all, black holes possess angular momentum, resulting in a rotating black hole. This rotation significantly affects the spacetime around the black hole.\n",
            "* **Electric Charge:** While theoretically possible, observations suggest that black holes are essentially electrically neutral.\n",
            "\n",
            "**III. Types of Black Holes:**\n",
            "\n",
            "Several types of black holes have been identified or theorized:\n",
            "\n",
            "* **Stellar-mass black holes:** Formed from the collapse of massive stars.  These are relatively small, ranging from a few to tens of solar masses.\n",
            "* **Intermediate-mass black holes (IMBHs):**  These are less well-understood and have masses between hundreds and thousands of solar masses. Their formation mechanism is still debated.\n",
            "* **Supermassive black holes (SMBHs):**  These reside at the centers of most galaxies, including our own Milky Way.  They possess masses ranging from millions to billions of solar masses.  Their formation is likely a complex process involving the merger of smaller black holes and the accretion of surrounding matter.\n",
            "* **Primordial black holes:** These hypothetical black holes are thought to have formed in the very early universe, shortly after the Big Bang.  Their existence remains unconfirmed.\n",
            "\n",
            "\n",
            "**IV. Observing Black Holes:**\n",
            "\n",
            "Since black holes are invisible, their presence is inferred through their gravitational effects on nearby matter:\n",
            "\n",
            "* **Accretion disks:**  Matter spiraling into a black hole forms a hot, luminous accretion disk.  The intense heat and friction generate X-rays and other electromagnetic radiation, which can be detected by telescopes.\n",
            "* **Gravitational lensing:** The immense gravity of black holes bends the path of light passing nearby, causing a distortion in the images of background objects.\n",
            "* **Gravitational waves:** The merger of two black holes generates ripples in spacetime called gravitational waves.  These waves have been directly detected by observatories like LIGO and Virgo.\n",
            "* **Stellar orbits:**  The orbits of stars near the center of a galaxy can reveal the presence of a supermassive black hole through their unusually high speeds.\n",
            "\n",
            "**V.  Theoretical Implications and Ongoing Research:**\n",
            "\n",
            "Black holes are crucial testing grounds for our understanding of gravity and spacetime, particularly Einstein's theory of General Relativity.  Ongoing research focuses on:\n",
            "\n",
            "* **Information paradox:**  What happens to information that falls into a black hole?  This is a major unsolved problem in theoretical physics.\n",
            "* **Hawking radiation:**  Stephen Hawking theorized that black holes emit a faint radiation due to quantum effects near the event horizon.  Detecting this radiation remains a significant challenge.\n",
            "* **Black hole thermodynamics:**  Black holes exhibit properties analogous to thermodynamic systems, possessing entropy and temperature.\n",
            "* **The nature of singularities:**  Understanding the physics at the singularity remains a major goal.\n",
            "\n",
            "\n",
            "**VI. Conclusion:**\n",
            "\n",
            "Black holes are extraordinary objects that challenge our understanding of the universe.  While many mysteries remain, ongoing research and technological advancements continue to unveil their secrets, providing valuable insights into gravity, spacetime, and the evolution of the cosmos.  The study of black holes is not only a fascinating area of astrophysics but also a crucial component in developing a more complete and accurate model of the universe.\n"
          ]
        }
      ]
    },
    {
      "cell_type": "markdown",
      "source": [
        "# using the output parser...using the CHAINS"
      ],
      "metadata": {
        "id": "Tf38gx-uXxqv"
      }
    },
    {
      "cell_type": "code",
      "source": [
        "from langchain_core.output_parsers import StrOutputParser\n",
        "from langchain_core.prompts import PromptTemplate\n",
        "\n",
        "\n",
        "from langchain_google_genai import ChatGoogleGenerativeAI\n",
        "model = ChatGoogleGenerativeAI(model=\"gemini-2.5-flash\", temperature=0.5)\n",
        "\n",
        "\n",
        "\n",
        "template1 = PromptTemplate(\n",
        "    template=\"Write a detailed report on the following topic: {topic}\",\n",
        "    input_variables=[\"topic\"],\n",
        ")\n",
        "\n",
        "\n",
        "# second prompt\n",
        "template2 = PromptTemplate(\n",
        "    template=\"write a 5 lines summary  on the following text . /n {text}\",\n",
        "    input_variables=[\"text\"]\n",
        ")\n",
        "\n",
        "\n",
        "parser = StrOutputParser()\n",
        "\n",
        "# parser is used to obtain the content/ result/ data avoiding the metadata of the output of our query\n",
        "chain = template1 | model | parser | template2 | model | parser\n",
        "\n",
        "result= chain.invoke({\"topic\":\"AI\"})\n",
        "\n",
        "\n",
        "print(result)\n"
      ],
      "metadata": {
        "colab": {
          "base_uri": "https://localhost:8080/"
        },
        "id": "9gCKY0UTXNQb",
        "outputId": "b03b6072-3638-4747-c8b2-a7756404cc89"
      },
      "execution_count": 9,
      "outputs": [
        {
          "output_type": "stream",
          "name": "stdout",
          "text": [
            "Artificial Intelligence (AI) is a transformative technology enabling machines to perform human-like tasks, fundamentally reshaping industries and societies. Currently focused on Artificial Narrow Intelligence (ANI) via machine learning and deep learning, AI is widely applied across sectors like healthcare, finance, and transportation. While offering immense benefits such as increased efficiency, innovation, and enhanced problem-solving, it also presents significant challenges. These include ethical concerns like bias and privacy, potential job displacement, and security risks. Therefore, responsible development and proactive governance are crucial to harness AI's full potential for human benefit.\n"
          ]
        }
      ]
    },
    {
      "cell_type": "code",
      "source": [
        "display(result)"
      ],
      "metadata": {
        "colab": {
          "base_uri": "https://localhost:8080/",
          "height": 90
        },
        "id": "8PUKsx0UnQ3b",
        "outputId": "137e6edd-95e9-4e2b-ff7c-b8956d16a4b5"
      },
      "execution_count": 10,
      "outputs": [
        {
          "output_type": "display_data",
          "data": {
            "text/plain": [
              "\"Artificial Intelligence (AI) is a transformative technology enabling machines to perform human-like tasks, fundamentally reshaping industries and societies. Currently focused on Artificial Narrow Intelligence (ANI) via machine learning and deep learning, AI is widely applied across sectors like healthcare, finance, and transportation. While offering immense benefits such as increased efficiency, innovation, and enhanced problem-solving, it also presents significant challenges. These include ethical concerns like bias and privacy, potential job displacement, and security risks. Therefore, responsible development and proactive governance are crucial to harness AI's full potential for human benefit.\""
            ],
            "application/vnd.google.colaboratory.intrinsic+json": {
              "type": "string"
            }
          },
          "metadata": {}
        }
      ]
    },
    {
      "cell_type": "markdown",
      "source": [
        "# JSON output parser : force the LLM to give the output in JSON format"
      ],
      "metadata": {
        "id": "vVdBPVBbaeAl"
      }
    },
    {
      "cell_type": "code",
      "source": [
        "\n",
        "\n",
        "from langchain_google_genai import ChatGoogleGenerativeAI\n",
        "model = ChatGoogleGenerativeAI(model=\"gemini-1.5-flash-latest\", temperature=0.5)\n",
        "\n",
        "from langchain_core.prompts import PromptTemplate\n",
        "from langchain_core.output_parsers import JsonOutputParser\n",
        "\n",
        "parser = JsonOutputParser()\n",
        "\n",
        "template = PromptTemplate(template=\"GIve me the name, age and city of a fictional person \\n {format_instruction}\",\n",
        "                          input_variables=[],\n",
        "                          partial_variables={\"format_instruction\":parser.get_format_instructions()}\n",
        "\n",
        "\n",
        "                          )\n",
        "\n",
        "# alternate: use chains instead\n",
        "\n",
        "\n",
        "prompt = template.format()\n",
        "result = model.invoke(prompt)\n",
        "\n",
        "# print(prompt)\n",
        "final_result = parser.parse(result.content)\n",
        "print(final_result)\n",
        "print(type(final_result))\n",
        "\n",
        "\n"
      ],
      "metadata": {
        "colab": {
          "base_uri": "https://localhost:8080/"
        },
        "id": "vyvXfqo-Zwea",
        "outputId": "f2456475-2137-492e-b4be-93bf5e93429c"
      },
      "execution_count": null,
      "outputs": [
        {
          "output_type": "stream",
          "name": "stdout",
          "text": [
            "{'name': 'Anya Petrova', 'age': 27, 'city': 'Prague'}\n",
            "<class 'dict'>\n"
          ]
        }
      ]
    },
    {
      "cell_type": "code",
      "source": [
        "print(final_result[\"name\"])"
      ],
      "metadata": {
        "colab": {
          "base_uri": "https://localhost:8080/"
        },
        "id": "WOWZ4TayoVuk",
        "outputId": "06851eb9-e9ae-4fa8-844e-3d6099736451"
      },
      "execution_count": null,
      "outputs": [
        {
          "output_type": "stream",
          "name": "stdout",
          "text": [
            "Anya Petrova\n"
          ]
        }
      ]
    },
    {
      "cell_type": "code",
      "source": [
        "# most used syntax\n",
        "\n",
        "\n",
        "chain = template | model | parser\n",
        "result = chain.invoke({})\n",
        "print(result)"
      ],
      "metadata": {
        "colab": {
          "base_uri": "https://localhost:8080/"
        },
        "id": "WQTv0EJ4p1Fl",
        "outputId": "983c6c95-4676-4476-c8a6-1b25ea5edd73"
      },
      "execution_count": null,
      "outputs": [
        {
          "output_type": "stream",
          "name": "stdout",
          "text": [
            "{'name': 'Anya Petrova', 'age': 27, 'city': 'Prague'}\n"
          ]
        }
      ]
    },
    {
      "cell_type": "code",
      "source": [
        "# the JSON output parser doesnot give the output in a particular schema..so use StructuredOutputParser instead"
      ],
      "metadata": {
        "id": "YsqqXMITqvjm"
      },
      "execution_count": null,
      "outputs": []
    },
    {
      "cell_type": "markdown",
      "source": [
        "# Structured Output Parser \" enforce schema"
      ],
      "metadata": {
        "id": "EE9TlLBDskOI"
      }
    },
    {
      "cell_type": "code",
      "source": [
        "# just for the proper display\n",
        "from IPython.display import display\n",
        "\n",
        "\n",
        "\n",
        "from langchain_core.prompts import PromptTemplate\n",
        "from langchain.output_parsers import StructuredOutputParser, ResponseSchema\n",
        "\n",
        "\n",
        "from langchain_google_genai import ChatGoogleGenerativeAI\n",
        "model = ChatGoogleGenerativeAI(model=\"gemini-1.5-flash-latest\", temperature=0.5)\n",
        "\n",
        "\n",
        "schema = [\n",
        "\n",
        "          ResponseSchema(name='fact-1', description=\" Fact 1 about the topic\"),\n",
        "          ResponseSchema(name='fact-2', description=\" Fact 2 about the topic\"),\n",
        "          ResponseSchema(name='fact-3', description=\" Fact 3 about the topic\"),\n",
        "]\n",
        "\n",
        "parser = StructuredOutputParser.from_response_schemas(schema)\n",
        "\n",
        "\n",
        "template=PromptTemplate(\n",
        "    template=\"Give me 3 facts about the following: {topic} \\n {format_instruction}\",\n",
        "    input_variables=[\"topic\"],\n",
        "    partial_variables={\"format_instruction\": parser.get_format_instructions()}\n",
        ")\n",
        "\n",
        "prompt = template.invoke({\"topic\":\"black hole\"})\n",
        "\n",
        "result = model.invoke(prompt)\n",
        "\n",
        "final_result = parser.parse(result.content)\n",
        "# use print()\n",
        "display(final_result)"
      ],
      "metadata": {
        "colab": {
          "base_uri": "https://localhost:8080/",
          "height": 71
        },
        "id": "Sr8NE2OEsoBx",
        "outputId": "b403a156-e589-4759-f9d9-024a9dcc464c"
      },
      "execution_count": null,
      "outputs": [
        {
          "output_type": "display_data",
          "data": {
            "text/plain": [
              "{'fact-1': 'Black holes are regions of spacetime where gravity is so strong that nothing, not even light, can escape.',\n",
              " 'fact-2': 'Black holes are formed from the remnants of massive stars that have collapsed under their own gravity.',\n",
              " 'fact-3': 'The size of a black hole is determined by its mass; a black hole with more mass has a larger event horizon (the point of no return).'}"
            ]
          },
          "metadata": {}
        }
      ]
    },
    {
      "cell_type": "code",
      "source": [
        "# using chains - same till template\n",
        "# main drawbacks: no data validation in this parser\n",
        "\n",
        "\n",
        "chain = template | model | parser\n",
        "result = chain.invoke({\"topic\":\" black hole\"})\n",
        "display(result)"
      ],
      "metadata": {
        "id": "qYENJ4DpvYPJ"
      },
      "execution_count": null,
      "outputs": []
    },
    {
      "cell_type": "markdown",
      "source": [
        "# Pydantic output parser:\n",
        " enforce schema and data validation easily\n",
        "\n",
        "eg. we ask the name, age , city from the llm as a output in a json format (schema validation)\n",
        "and the constraint is that age must be greater than 18 and must be int(data validation)"
      ],
      "metadata": {
        "id": "NwpVGqxf1Abe"
      }
    },
    {
      "cell_type": "code",
      "source": [
        "from langchain_core.prompts import PromptTemplate\n",
        "from langchain_core.output_parsers import PydanticOutputParser\n",
        "from pydantic import BaseModel, Field, validator\n",
        "\n",
        "from langchain_google_genai import ChatGoogleGenerativeAI\n",
        "model = ChatGoogleGenerativeAI(model=\"gemini-2.5-flash\", temperature=0.5)\n",
        "\n",
        "# make a pydantic object that works as a schema for validaion\n",
        "class Person(BaseModel):\n",
        "\n",
        "  name:str = Field(description=\"person's name\")\n",
        "  age:int = Field( gt=18 ,description=\"person's age\")\n",
        "  city:str = Field(description=\"person's city name\")\n",
        "\n",
        "\n",
        "parser = PydanticOutputParser(pydantic_object=Person)\n",
        "\n",
        "\n",
        "template = PromptTemplate(\n",
        "    template=\"generate the name, age and city of the fictional {place} person \\n {format_instructions}\",\n",
        "    input_variables=[\"place\"],\n",
        "    partial_variables={\"format_instructions\": parser.get_format_instructions()}\n",
        "\n",
        ")\n",
        "\n",
        "\n",
        "# prompt = template.invoke({\"place\":\"Nepali\"})\n",
        "\n",
        "# print(prompt, \"the prompt that gets received by llm\")\n",
        "\n",
        "\n",
        "\n",
        "# result = model.invoke(prompt)\n",
        "# final_result = parser.parse(result.content)\n",
        "# print(final_result)\n",
        "# alternatives........using chains....\n",
        "\n",
        "\n",
        "\n",
        "chain = template | model | parser\n",
        "\n",
        "final_result = chain.invoke({\"place\":\"Nepali\", \"format_instructions\": parser.get_format_instructions()})\n",
        "\n",
        "print(final_result)"
      ],
      "metadata": {
        "id": "PNddhbhE0-KG",
        "colab": {
          "base_uri": "https://localhost:8080/"
        },
        "outputId": "2f4fc743-2afd-453e-e078-6cdd3367861e"
      },
      "execution_count": 12,
      "outputs": [
        {
          "output_type": "stream",
          "name": "stdout",
          "text": [
            "name='Prakash Bhandari' age=32 city='Kathmandu'\n"
          ]
        }
      ]
    },
    {
      "cell_type": "code",
      "source": [],
      "metadata": {
        "id": "PkZleEAgqlpD"
      },
      "execution_count": null,
      "outputs": []
    }
  ]
}