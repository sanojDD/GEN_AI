{
  "nbformat": 4,
  "nbformat_minor": 0,
  "metadata": {
    "colab": {
      "provenance": []
    },
    "kernelspec": {
      "name": "python3",
      "display_name": "Python 3"
    },
    "language_info": {
      "name": "python"
    }
  },
  "cells": [
    {
      "cell_type": "markdown",
      "source": [
        "# Document loader"
      ],
      "metadata": {
        "id": "VLteuHE0AUwO"
      }
    },
    {
      "cell_type": "code",
      "execution_count": null,
      "metadata": {
        "colab": {
          "base_uri": "https://localhost:8080/"
        },
        "id": "td61kgv292sp",
        "outputId": "d6ddada4-5f81-4f03-ab62-e1a9c3ef9924"
      },
      "outputs": [
        {
          "output_type": "stream",
          "name": "stdout",
          "text": [
            "\u001b[2K   \u001b[90m━━━━━━━━━━━━━━━━━━━━━━━━━━━━━━━━━━━━━━━━\u001b[0m \u001b[32m2.5/2.5 MB\u001b[0m \u001b[31m42.9 MB/s\u001b[0m eta \u001b[36m0:00:00\u001b[0m\n",
            "\u001b[2K   \u001b[90m━━━━━━━━━━━━━━━━━━━━━━━━━━━━━━━━━━━━━━━━\u001b[0m \u001b[32m45.2/45.2 kB\u001b[0m \u001b[31m3.1 MB/s\u001b[0m eta \u001b[36m0:00:00\u001b[0m\n",
            "\u001b[2K   \u001b[90m━━━━━━━━━━━━━━━━━━━━━━━━━━━━━━━━━━━━━━━━\u001b[0m \u001b[32m50.9/50.9 kB\u001b[0m \u001b[31m3.9 MB/s\u001b[0m eta \u001b[36m0:00:00\u001b[0m\n",
            "\u001b[?25h"
          ]
        }
      ],
      "source": [
        "!pip install -q langchain langchain-community google-generativeai"
      ]
    },
    {
      "cell_type": "code",
      "source": [
        "!pip install langchain-google-genai"
      ],
      "metadata": {
        "colab": {
          "base_uri": "https://localhost:8080/",
          "height": 1000
        },
        "id": "c2q2Y0UuBXmX",
        "outputId": "22b9b07f-6a20-48e5-e2b2-6868dc378c0f"
      },
      "execution_count": null,
      "outputs": [
        {
          "output_type": "stream",
          "name": "stdout",
          "text": [
            "Collecting langchain-google-genai\n",
            "  Downloading langchain_google_genai-2.1.7-py3-none-any.whl.metadata (7.0 kB)\n",
            "Collecting filetype<2.0.0,>=1.2.0 (from langchain-google-genai)\n",
            "  Downloading filetype-1.2.0-py2.py3-none-any.whl.metadata (6.5 kB)\n",
            "Collecting google-ai-generativelanguage<0.7.0,>=0.6.18 (from langchain-google-genai)\n",
            "  Downloading google_ai_generativelanguage-0.6.18-py3-none-any.whl.metadata (9.8 kB)\n",
            "Requirement already satisfied: langchain-core<0.4.0,>=0.3.68 in /usr/local/lib/python3.11/dist-packages (from langchain-google-genai) (0.3.68)\n",
            "Requirement already satisfied: pydantic<3,>=2 in /usr/local/lib/python3.11/dist-packages (from langchain-google-genai) (2.11.7)\n",
            "Requirement already satisfied: google-api-core!=2.0.*,!=2.1.*,!=2.10.*,!=2.2.*,!=2.3.*,!=2.4.*,!=2.5.*,!=2.6.*,!=2.7.*,!=2.8.*,!=2.9.*,<3.0.0,>=1.34.1 in /usr/local/lib/python3.11/dist-packages (from google-api-core[grpc]!=2.0.*,!=2.1.*,!=2.10.*,!=2.2.*,!=2.3.*,!=2.4.*,!=2.5.*,!=2.6.*,!=2.7.*,!=2.8.*,!=2.9.*,<3.0.0,>=1.34.1->google-ai-generativelanguage<0.7.0,>=0.6.18->langchain-google-genai) (2.25.1)\n",
            "Requirement already satisfied: google-auth!=2.24.0,!=2.25.0,<3.0.0,>=2.14.1 in /usr/local/lib/python3.11/dist-packages (from google-ai-generativelanguage<0.7.0,>=0.6.18->langchain-google-genai) (2.38.0)\n",
            "Requirement already satisfied: proto-plus<2.0.0,>=1.22.3 in /usr/local/lib/python3.11/dist-packages (from google-ai-generativelanguage<0.7.0,>=0.6.18->langchain-google-genai) (1.26.1)\n",
            "Requirement already satisfied: protobuf!=4.21.0,!=4.21.1,!=4.21.2,!=4.21.3,!=4.21.4,!=4.21.5,<7.0.0,>=3.20.2 in /usr/local/lib/python3.11/dist-packages (from google-ai-generativelanguage<0.7.0,>=0.6.18->langchain-google-genai) (5.29.5)\n",
            "Requirement already satisfied: langsmith>=0.3.45 in /usr/local/lib/python3.11/dist-packages (from langchain-core<0.4.0,>=0.3.68->langchain-google-genai) (0.4.4)\n",
            "Requirement already satisfied: tenacity!=8.4.0,<10.0.0,>=8.1.0 in /usr/local/lib/python3.11/dist-packages (from langchain-core<0.4.0,>=0.3.68->langchain-google-genai) (8.5.0)\n",
            "Requirement already satisfied: jsonpatch<2.0,>=1.33 in /usr/local/lib/python3.11/dist-packages (from langchain-core<0.4.0,>=0.3.68->langchain-google-genai) (1.33)\n",
            "Requirement already satisfied: PyYAML>=5.3 in /usr/local/lib/python3.11/dist-packages (from langchain-core<0.4.0,>=0.3.68->langchain-google-genai) (6.0.2)\n",
            "Requirement already satisfied: packaging<25,>=23.2 in /usr/local/lib/python3.11/dist-packages (from langchain-core<0.4.0,>=0.3.68->langchain-google-genai) (24.2)\n",
            "Requirement already satisfied: typing-extensions>=4.7 in /usr/local/lib/python3.11/dist-packages (from langchain-core<0.4.0,>=0.3.68->langchain-google-genai) (4.14.1)\n",
            "Requirement already satisfied: annotated-types>=0.6.0 in /usr/local/lib/python3.11/dist-packages (from pydantic<3,>=2->langchain-google-genai) (0.7.0)\n",
            "Requirement already satisfied: pydantic-core==2.33.2 in /usr/local/lib/python3.11/dist-packages (from pydantic<3,>=2->langchain-google-genai) (2.33.2)\n",
            "Requirement already satisfied: typing-inspection>=0.4.0 in /usr/local/lib/python3.11/dist-packages (from pydantic<3,>=2->langchain-google-genai) (0.4.1)\n",
            "Requirement already satisfied: googleapis-common-protos<2.0.0,>=1.56.2 in /usr/local/lib/python3.11/dist-packages (from google-api-core!=2.0.*,!=2.1.*,!=2.10.*,!=2.2.*,!=2.3.*,!=2.4.*,!=2.5.*,!=2.6.*,!=2.7.*,!=2.8.*,!=2.9.*,<3.0.0,>=1.34.1->google-api-core[grpc]!=2.0.*,!=2.1.*,!=2.10.*,!=2.2.*,!=2.3.*,!=2.4.*,!=2.5.*,!=2.6.*,!=2.7.*,!=2.8.*,!=2.9.*,<3.0.0,>=1.34.1->google-ai-generativelanguage<0.7.0,>=0.6.18->langchain-google-genai) (1.70.0)\n",
            "Requirement already satisfied: requests<3.0.0,>=2.18.0 in /usr/local/lib/python3.11/dist-packages (from google-api-core!=2.0.*,!=2.1.*,!=2.10.*,!=2.2.*,!=2.3.*,!=2.4.*,!=2.5.*,!=2.6.*,!=2.7.*,!=2.8.*,!=2.9.*,<3.0.0,>=1.34.1->google-api-core[grpc]!=2.0.*,!=2.1.*,!=2.10.*,!=2.2.*,!=2.3.*,!=2.4.*,!=2.5.*,!=2.6.*,!=2.7.*,!=2.8.*,!=2.9.*,<3.0.0,>=1.34.1->google-ai-generativelanguage<0.7.0,>=0.6.18->langchain-google-genai) (2.32.3)\n",
            "Requirement already satisfied: grpcio<2.0.0,>=1.33.2 in /usr/local/lib/python3.11/dist-packages (from google-api-core[grpc]!=2.0.*,!=2.1.*,!=2.10.*,!=2.2.*,!=2.3.*,!=2.4.*,!=2.5.*,!=2.6.*,!=2.7.*,!=2.8.*,!=2.9.*,<3.0.0,>=1.34.1->google-ai-generativelanguage<0.7.0,>=0.6.18->langchain-google-genai) (1.73.1)\n",
            "Requirement already satisfied: grpcio-status<2.0.0,>=1.33.2 in /usr/local/lib/python3.11/dist-packages (from google-api-core[grpc]!=2.0.*,!=2.1.*,!=2.10.*,!=2.2.*,!=2.3.*,!=2.4.*,!=2.5.*,!=2.6.*,!=2.7.*,!=2.8.*,!=2.9.*,<3.0.0,>=1.34.1->google-ai-generativelanguage<0.7.0,>=0.6.18->langchain-google-genai) (1.71.2)\n",
            "Requirement already satisfied: cachetools<6.0,>=2.0.0 in /usr/local/lib/python3.11/dist-packages (from google-auth!=2.24.0,!=2.25.0,<3.0.0,>=2.14.1->google-ai-generativelanguage<0.7.0,>=0.6.18->langchain-google-genai) (5.5.2)\n",
            "Requirement already satisfied: pyasn1-modules>=0.2.1 in /usr/local/lib/python3.11/dist-packages (from google-auth!=2.24.0,!=2.25.0,<3.0.0,>=2.14.1->google-ai-generativelanguage<0.7.0,>=0.6.18->langchain-google-genai) (0.4.2)\n",
            "Requirement already satisfied: rsa<5,>=3.1.4 in /usr/local/lib/python3.11/dist-packages (from google-auth!=2.24.0,!=2.25.0,<3.0.0,>=2.14.1->google-ai-generativelanguage<0.7.0,>=0.6.18->langchain-google-genai) (4.9.1)\n",
            "Requirement already satisfied: jsonpointer>=1.9 in /usr/local/lib/python3.11/dist-packages (from jsonpatch<2.0,>=1.33->langchain-core<0.4.0,>=0.3.68->langchain-google-genai) (3.0.0)\n",
            "Requirement already satisfied: httpx<1,>=0.23.0 in /usr/local/lib/python3.11/dist-packages (from langsmith>=0.3.45->langchain-core<0.4.0,>=0.3.68->langchain-google-genai) (0.28.1)\n",
            "Requirement already satisfied: orjson<4.0.0,>=3.9.14 in /usr/local/lib/python3.11/dist-packages (from langsmith>=0.3.45->langchain-core<0.4.0,>=0.3.68->langchain-google-genai) (3.10.18)\n",
            "Requirement already satisfied: requests-toolbelt<2.0.0,>=1.0.0 in /usr/local/lib/python3.11/dist-packages (from langsmith>=0.3.45->langchain-core<0.4.0,>=0.3.68->langchain-google-genai) (1.0.0)\n",
            "Requirement already satisfied: zstandard<0.24.0,>=0.23.0 in /usr/local/lib/python3.11/dist-packages (from langsmith>=0.3.45->langchain-core<0.4.0,>=0.3.68->langchain-google-genai) (0.23.0)\n",
            "Requirement already satisfied: anyio in /usr/local/lib/python3.11/dist-packages (from httpx<1,>=0.23.0->langsmith>=0.3.45->langchain-core<0.4.0,>=0.3.68->langchain-google-genai) (4.9.0)\n",
            "Requirement already satisfied: certifi in /usr/local/lib/python3.11/dist-packages (from httpx<1,>=0.23.0->langsmith>=0.3.45->langchain-core<0.4.0,>=0.3.68->langchain-google-genai) (2025.6.15)\n",
            "Requirement already satisfied: httpcore==1.* in /usr/local/lib/python3.11/dist-packages (from httpx<1,>=0.23.0->langsmith>=0.3.45->langchain-core<0.4.0,>=0.3.68->langchain-google-genai) (1.0.9)\n",
            "Requirement already satisfied: idna in /usr/local/lib/python3.11/dist-packages (from httpx<1,>=0.23.0->langsmith>=0.3.45->langchain-core<0.4.0,>=0.3.68->langchain-google-genai) (3.10)\n",
            "Requirement already satisfied: h11>=0.16 in /usr/local/lib/python3.11/dist-packages (from httpcore==1.*->httpx<1,>=0.23.0->langsmith>=0.3.45->langchain-core<0.4.0,>=0.3.68->langchain-google-genai) (0.16.0)\n",
            "Requirement already satisfied: pyasn1<0.7.0,>=0.6.1 in /usr/local/lib/python3.11/dist-packages (from pyasn1-modules>=0.2.1->google-auth!=2.24.0,!=2.25.0,<3.0.0,>=2.14.1->google-ai-generativelanguage<0.7.0,>=0.6.18->langchain-google-genai) (0.6.1)\n",
            "Requirement already satisfied: charset-normalizer<4,>=2 in /usr/local/lib/python3.11/dist-packages (from requests<3.0.0,>=2.18.0->google-api-core!=2.0.*,!=2.1.*,!=2.10.*,!=2.2.*,!=2.3.*,!=2.4.*,!=2.5.*,!=2.6.*,!=2.7.*,!=2.8.*,!=2.9.*,<3.0.0,>=1.34.1->google-api-core[grpc]!=2.0.*,!=2.1.*,!=2.10.*,!=2.2.*,!=2.3.*,!=2.4.*,!=2.5.*,!=2.6.*,!=2.7.*,!=2.8.*,!=2.9.*,<3.0.0,>=1.34.1->google-ai-generativelanguage<0.7.0,>=0.6.18->langchain-google-genai) (3.4.2)\n",
            "Requirement already satisfied: urllib3<3,>=1.21.1 in /usr/local/lib/python3.11/dist-packages (from requests<3.0.0,>=2.18.0->google-api-core!=2.0.*,!=2.1.*,!=2.10.*,!=2.2.*,!=2.3.*,!=2.4.*,!=2.5.*,!=2.6.*,!=2.7.*,!=2.8.*,!=2.9.*,<3.0.0,>=1.34.1->google-api-core[grpc]!=2.0.*,!=2.1.*,!=2.10.*,!=2.2.*,!=2.3.*,!=2.4.*,!=2.5.*,!=2.6.*,!=2.7.*,!=2.8.*,!=2.9.*,<3.0.0,>=1.34.1->google-ai-generativelanguage<0.7.0,>=0.6.18->langchain-google-genai) (2.4.0)\n",
            "Requirement already satisfied: sniffio>=1.1 in /usr/local/lib/python3.11/dist-packages (from anyio->httpx<1,>=0.23.0->langsmith>=0.3.45->langchain-core<0.4.0,>=0.3.68->langchain-google-genai) (1.3.1)\n",
            "Downloading langchain_google_genai-2.1.7-py3-none-any.whl (47 kB)\n",
            "\u001b[2K   \u001b[90m━━━━━━━━━━━━━━━━━━━━━━━━━━━━━━━━━━━━━━━━\u001b[0m \u001b[32m47.4/47.4 kB\u001b[0m \u001b[31m3.0 MB/s\u001b[0m eta \u001b[36m0:00:00\u001b[0m\n",
            "\u001b[?25hDownloading filetype-1.2.0-py2.py3-none-any.whl (19 kB)\n",
            "Downloading google_ai_generativelanguage-0.6.18-py3-none-any.whl (1.4 MB)\n",
            "\u001b[2K   \u001b[90m━━━━━━━━━━━━━━━━━━━━━━━━━━━━━━━━━━━━━━━━\u001b[0m \u001b[32m1.4/1.4 MB\u001b[0m \u001b[31m29.8 MB/s\u001b[0m eta \u001b[36m0:00:00\u001b[0m\n",
            "\u001b[?25hInstalling collected packages: filetype, google-ai-generativelanguage, langchain-google-genai\n",
            "  Attempting uninstall: google-ai-generativelanguage\n",
            "    Found existing installation: google-ai-generativelanguage 0.6.15\n",
            "    Uninstalling google-ai-generativelanguage-0.6.15:\n",
            "      Successfully uninstalled google-ai-generativelanguage-0.6.15\n",
            "\u001b[31mERROR: pip's dependency resolver does not currently take into account all the packages that are installed. This behaviour is the source of the following dependency conflicts.\n",
            "google-generativeai 0.8.5 requires google-ai-generativelanguage==0.6.15, but you have google-ai-generativelanguage 0.6.18 which is incompatible.\u001b[0m\u001b[31m\n",
            "\u001b[0mSuccessfully installed filetype-1.2.0 google-ai-generativelanguage-0.6.18 langchain-google-genai-2.1.7\n"
          ]
        },
        {
          "output_type": "display_data",
          "data": {
            "application/vnd.colab-display-data+json": {
              "pip_warning": {
                "packages": [
                  "google"
                ]
              },
              "id": "d6e552e1329241999d736f36a2f93903"
            }
          },
          "metadata": {}
        }
      ]
    },
    {
      "cell_type": "code",
      "source": [
        "import os\n",
        "from google.colab import userdata\n",
        "\n",
        "# Access the API key from Colab's Secrets Manager\n",
        "os.environ[\"GOOGLE_API_KEY\"] = userdata.get('GOOGLE_API_KEY')"
      ],
      "metadata": {
        "id": "GXgCyTTIEbef"
      },
      "execution_count": null,
      "outputs": []
    },
    {
      "cell_type": "code",
      "source": [
        "import os\n",
        "from IPython.display import display\n",
        "\n",
        "file_path = \"cricket.txt\"\n",
        "\n",
        "if os.path.exists(file_path):\n",
        "  print(f\"The file '{file_path}' exists.\")\n",
        "else:\n",
        "  print(f\"The file '{file_path}' does not exist.\")\n",
        "  print(\"Please make sure the file is in the same directory as the notebook or provide the full path.\")"
      ],
      "metadata": {
        "colab": {
          "base_uri": "https://localhost:8080/"
        },
        "id": "2CVR3a81Cdt1",
        "outputId": "a2b94d8f-359c-4825-a370-485a0c17fc23"
      },
      "execution_count": null,
      "outputs": [
        {
          "output_type": "stream",
          "name": "stdout",
          "text": [
            "The file 'cricket.txt' exists.\n"
          ]
        }
      ]
    },
    {
      "cell_type": "code",
      "source": [
        "from langchain_community.document_loaders import TextLoader\n",
        "loader = TextLoader(\"cricket.txt\", encoding=\"utf-8\")\n",
        "\n",
        "docs = loader.load()\n",
        "display(type(docs))\n",
        "display(len(docs))\n",
        "display(type(docs[0]))\n",
        "\n",
        "\n",
        "display(docs[0].metadata)\n",
        "display(docs[0].page_content)\n"
      ],
      "metadata": {
        "colab": {
          "base_uri": "https://localhost:8080/",
          "height": 350
        },
        "id": "fI-QLSowBbhn",
        "outputId": "99995a21-a7d2-4723-db5a-41073c8568f6"
      },
      "execution_count": null,
      "outputs": [
        {
          "output_type": "display_data",
          "data": {
            "text/plain": [
              "list"
            ]
          },
          "metadata": {}
        },
        {
          "output_type": "display_data",
          "data": {
            "text/plain": [
              "1"
            ]
          },
          "metadata": {}
        },
        {
          "output_type": "display_data",
          "data": {
            "text/plain": [
              "langchain_core.documents.base.Document"
            ],
            "text/html": [
              "<div style=\"max-width:800px; border: 1px solid var(--colab-border-color);\"><style>\n",
              "      pre.function-repr-contents {\n",
              "        overflow-x: auto;\n",
              "        padding: 8px 12px;\n",
              "        max-height: 500px;\n",
              "      }\n",
              "\n",
              "      pre.function-repr-contents.function-repr-contents-collapsed {\n",
              "        cursor: pointer;\n",
              "        max-height: 100px;\n",
              "      }\n",
              "    </style>\n",
              "    <pre style=\"white-space: initial; background:\n",
              "         var(--colab-secondary-surface-color); padding: 8px 12px;\n",
              "         border-bottom: 1px solid var(--colab-border-color);\"><b>langchain_core.documents.base.Document</b><br/>def __init__(page_content: str, **kwargs: Any) -&gt; None</pre><pre class=\"function-repr-contents function-repr-contents-collapsed\" style=\"\"><a class=\"filepath\" style=\"display:none\" href=\"#\">/usr/local/lib/python3.11/dist-packages/langchain_core/documents/base.py</a>Class for storing a piece of text and associated metadata.\n",
              "\n",
              "Example:\n",
              "\n",
              "    .. code-block:: python\n",
              "\n",
              "        from langchain_core.documents import Document\n",
              "\n",
              "        document = Document(\n",
              "            page_content=&quot;Hello, world!&quot;,\n",
              "            metadata={&quot;source&quot;: &quot;https://example.com&quot;}\n",
              "        )</pre>\n",
              "      <script>\n",
              "      if (google.colab.kernel.accessAllowed && google.colab.files && google.colab.files.view) {\n",
              "        for (const element of document.querySelectorAll('.filepath')) {\n",
              "          element.style.display = 'block'\n",
              "          element.onclick = (event) => {\n",
              "            event.preventDefault();\n",
              "            event.stopPropagation();\n",
              "            google.colab.files.view(element.textContent, 255);\n",
              "          };\n",
              "        }\n",
              "      }\n",
              "      for (const element of document.querySelectorAll('.function-repr-contents')) {\n",
              "        element.onclick = (event) => {\n",
              "          event.preventDefault();\n",
              "          event.stopPropagation();\n",
              "          element.classList.toggle('function-repr-contents-collapsed');\n",
              "        };\n",
              "      }\n",
              "      </script>\n",
              "      </div>"
            ]
          },
          "metadata": {}
        },
        {
          "output_type": "display_data",
          "data": {
            "text/plain": [
              "{'source': 'cricket.txt'}"
            ]
          },
          "metadata": {}
        },
        {
          "output_type": "display_data",
          "data": {
            "text/plain": [
              "'Beneath the sun or floodlight\\'s gleam,\\n\\nCricket lives like a waking dream.\\n\\nA field of green, a willowed sound,\\n\\nWhere legends rise and tales are found.\\n\\nFrom dusty lanes where barefoot boys,\\n\\nChase every run with shrieks of joy,\\n\\nTo packed arenas roaring loud,\\n\\nThe game unites a global crowd.\\n\\nA coin is tossed, the captains stare,\\n\\nAs tension thickens in the air.\\n\\nBat or bowl? A choice so bold,\\n\\nA story new begins, retold.\\n\\nThe openers walk, calm yet brave,\\n\\nEach stride a wave upon the wave.\\n\\nThey face the ball with narrowed eyes,\\n\\nAs silence grips the watching skies.\\n\\nThe bowler runs, a rhythmic beat,\\n\\nLike thunder galloping on feet.\\n\\nA leather flash, a wooden crack—\\n\\nThe ball takes flight, then tumbles back.\\n\\nA flick through square, a drive through mid,\\n\\nA lofted shot the fielder missed.\\n\\nA single, double, sprint for three,\\n\\nThe crowd erupts in ecstasy.\\n\\nBut not for long—the trap is set,\\n\\nThe spinner loops, the pitch is wet.\\n\\nA sudden turn, the bat’s deceived,\\n\\nAnd timber flies like falling leaves.\\n\\nA hush, then cheers, then high-fives loud,\\n\\nThe bowler roars, his head unbowed.\\n\\nThe batter walks with heavy tread,\\n\\nA tale of glory left unsaid.\\n\\nThe umpire stands with stoic grace,\\n\\nA calm amidst the frantic pace.\\n\\nOne finger raised, a moment still,\\n\\nA gesture sharp, a silent thrill.\\n\\nThe scoreboard ticks like beating hearts,\\n\\nAs partnerships rise, and fall apart.\\n\\nSome play with flair, with sweep and pull,\\n\\nSome stand like walls, immovable.\\n\\nThe captain thinks, adjusts the field,\\n\\nA chessboard mind on grassy shield.\\n\\nEach gap, a trap; each move, a game,\\n\\nWith every ball, a shift in flame.\\n\\nMid-on, mid-off, and gully tight,\\n\\nFine leg runs in from left to right.\\n\\nThe slips await with eager hands,\\n\\nFor nicks that destiny commands.\\n\\nA hundred scored, the helmet raised,\\n\\nA warrior bathed in roaring praise.\\n\\nThe team applauds, the crowd goes wild,\\n\\nFor every run, each dive, each mile.\\n\\nAnd in the stands, the flags wave high,\\n\\nBeneath the blue and open sky.\\n\\nThe drums, the chants, the painted face,\\n\\nAll speak of cricket’s grand embrace.\\n\\nThe drinks break comes, a moment brief,\\n\\nTo wipe off sweat, to find relief.\\n\\nCoaches mumble with advice,\\n\\n“Play the line, and check your slice.”\\n\\nThen battle calls, the bowler steams,\\n\\nA yorker crushes batting dreams.\\n\\nThe stumps are shattered, crowd aghast—\\n\\nA flash of fire, fierce and fast.\\n\\nThe tail-enders, with nerves of steel,\\n\\nTry holding firm with stubborn zeal.\\n\\nA scoop, a nudge, a lucky edge,\\n\\nOne dances on the boundary’s edge.\\n\\nThe innings end, a total made,\\n\\nThe sun begins to softly fade.\\n\\nNow comes the turn of those who bowl,\\n\\nWith eyes on wickets, not the goal.\\n\\nThe new ball shines, the fielders crouch,\\n\\nThe keeper’s ready to pounce and pouch.\\n\\nA thud on pad, a cry for \"out!\"\\n\\nThe umpire shakes his head, no doubt.\\n\\nThe bowler sighs, returns to mark,\\n\\nHis eyes like embers in the dark.\\n\\nAnother try, a perfect seam,\\n\\nThe batsman jumps, mid-pitch between.\\n\\nA mix of patience, flair, and fight,\\n\\nOf brave defense and blazing might.\\n\\nA battle not of brute alone,\\n\\nBut mind and heart and muscle-bone.\\n\\nThen comes the dew, the lights go on,\\n\\nThe night arrives, but play goes on.\\n\\nThe white ball glows like moon in flight,\\n\\nThe shadows stretch into the night.\\n\\nA catch at point—what reflex sharp!\\n\\nA dive, a slide, the stumps go spark!\\n\\nThe DRS, the screen, review,\\n\\nTechnology joins cricket too.\\n\\nThe required run rate climbs like flame,\\n\\nThe chasing team must up its game.\\n\\nA six, a four, the gap now close,\\n\\nThe fans can\\'t breathe, the players know.\\n\\nLast over now, the thrill is peak,\\n\\nTen runs to win, the knees grow weak.\\n\\nA dot ball here, a boundary there,\\n\\nA fielder dives through heavy air.\\n\\nThe penultimate ball, two runs remain,\\n\\nThe stadium’s loud like roaring train.\\n\\nA single taken, now it\\'s tight,\\n\\nOne ball, one run, a final fight.\\n\\nThe bowler wipes his brow and dreams,\\n\\nThe batter tugs his jersey seams.\\n\\nThe field is drawn, the crowd is still,\\n\\nThis last delivery seals the thrill.\\n\\nHe runs, he bowls—a slower pace,\\n\\nThe batter swings, a bold embrace.\\n\\nThe ball soars high, the fielder sprints,\\n\\nA moment packed with a thousand hints.\\n\\nHands stretch out—did he catch or drop?\\n\\nThe hearts, they skip, the breaths, they stop.\\n\\nThen up it goes—the finger, clear!\\n\\nA win! A loss! A falling tear.\\n\\nThe players shake their hands and smile,\\n\\nFor sport is more than just the file.\\n\\nIt’s moments shared, a soul, a song,\\n\\nWhere win or loss, we all belong.\\n\\nAnd far away, where children play,\\n\\nOn muddy ground at end of day,\\n\\nWith plastic bat and rubber ball,\\n\\nThe spirit lives—it beats in all.\\n\\nThe crack of bat, the shout, the chase,\\n\\nThe joy of runs, the fall from grace.\\n\\nFrom Gavaskar to Sachin’s prime,\\n\\nFrom Lara’s flair to Root’s fine line.\\n\\nFrom Kohli’s fire to Dhoni’s calm,\\n\\nFrom Babar’s class to Bumrah’s charm.\\n\\nFrom Muralitharan\\'s magic spin,\\n\\nTo Wasim’s swing and Afridi’s grin.\\n\\nFrom war to peace, from crowd to soul,\\n\\nCricket binds, it makes us whole.\\n\\nA story long, with chapters vast,\\n\\nFrom village fields to Lords\\' rich past.\\n\\nIt\\'s more than just a sport or show,\\n\\nIt’s what we cheer, and feel, and know.\\n\\nA bowler\\'s spell, a batter\\'s stance,\\n\\nEach moment gives our hearts a chance.\\n\\nAnd though formats may rise or fall—\\n\\nT20 quick, or Tests that sprawl—\\n\\nThe heart remains the same inside,\\n\\nA game of honor, grit, and pride.\\n\\nFor every match, a tale unfurled,\\n\\nOf battlefields in cricket’s world.\\n\\nThe whites, the blues, the fiery red,\\n\\nThe crests of dreams, where hope is fed.\\n\\nFrom Eden Gardens\\' mighty cheers,\\n\\nTo MCG through all the years,\\n\\nFrom gully rules to county games,\\n\\nCricket sings in varied names.\\n\\nA thousand chants, a billion eyes,\\n\\nEach moment under azure skies.\\n\\nIt\\'s not just sport, it’s blood and lore,\\n\\nOf heartbreak, thrill, and something more.\\n\\nA father watching with his son,\\n\\nA daughter dreaming of a run.\\n\\nA granny cheering loud and proud,\\n\\nA youth who stands out from the crowd.\\n\\nFor every nation, every creed,\\n\\nThis game ignites a common need.\\n\\nTo cheer, to strive, to rise once more,\\n\\nTo chase the line, defend the score.\\n\\nA drop of sweat, a breath held tight,\\n\\nA day of sun, a game of light.\\n\\nThe team, the pride, the nation\\'s hope,\\n\\nThe ball, the bat, the stumps, the slope.\\n\\nA world where sportsmanship is king,\\n\\nWhere pride and passion always cling.\\n\\nA match may end, the crowd may leave,\\n\\nBut memories stay and never grieve.\\n\\nThe smell of grass, the shout of \"Howzat!\"\\n\\nThe slip’s sharp catch, the keeper’s chat.\\n\\nThe final cheer, the anthem sung,\\n\\nThe dreams of old, the dreams of young.\\n\\nAnd so we play, we watch, we cheer,\\n\\nFor every loss, and win so dear.\\n\\nThe spirit strong, the game alive,\\n\\nWhere heart and soul forever thrive.\\n\\nFor cricket is not just a sport—\\n\\nIt’s where our fondest dreams cavort.\\n\\nA tale of glory, guts, and grace,\\n\\nA timeless game no time can chase.\\n\\nFrom past to now, from now to then,\\n\\nIt turns us boys and girls to men.\\n\\nWith willow, ball, and silent prayer,\\n\\nWe write our stories in the air.\\n\\nAnd as the final ball is bowled,\\n\\nAnd tales of glory, once more, told,\\n\\nThe love remains, forever set,\\n\\nFor cricket\\'s magic—never forget.\\n\\nSo here’s to games yet still to play,\\n\\nTo dawn-lit fields and end-of-day.\\n\\nTo every roar, and silent beat—\\n\\nTo cricket’s heart, so pure, so sweet.\\n\\nA gift, a flame, a timeless thread,\\n\\nThat lives as long as it is said:\\n\\n“Let’s play a match, just you and me…”\\n\\nAnd cricket lives, eternally.'"
            ],
            "application/vnd.google.colaboratory.intrinsic+json": {
              "type": "string"
            }
          },
          "metadata": {}
        }
      ]
    },
    {
      "cell_type": "code",
      "source": [
        "from langchain_google_genai import ChatGoogleGenerativeAI\n",
        "from langchain_community.document_loaders import TextLoader\n",
        "from langchain_core.output_parsers import StrOutputParser\n",
        "from langchain_core.prompts import PromptTemplate\n",
        "\n",
        "\n",
        "model = ChatGoogleGenerativeAI(model=\"gemini-2.5-flash\")\n",
        "\n",
        "\n",
        "\n",
        "\n",
        "prompt = PromptTemplate(\n",
        "    template=\"write a summary for the following poem \\n {poem}\",\n",
        "    input_variables=[\"poem\"]\n",
        ")\n",
        "\n",
        "parser = StrOutputParser()\n",
        "\n",
        "loader = TextLoader(\"cricket.txt\", encoding=\"utf-8\")\n",
        "docs = loader.load()\n",
        "\n",
        "\n",
        "\n",
        "\n",
        "display(type(docs))\n",
        "display(len(docs))\n",
        "display(type(docs[0]))\n",
        "\n",
        "\n",
        "display(docs[0].metadata)\n",
        "display(docs[0].page_content)\n",
        "\n",
        "\n",
        "chain = prompt | model | parser\n",
        "\n",
        "print(chain.invoke({\"poem\":docs[0].page_content}))\n"
      ],
      "metadata": {
        "id": "tUlpevHdCZ9K"
      },
      "execution_count": null,
      "outputs": []
    },
    {
      "cell_type": "markdown",
      "source": [
        "# PyPDFLoader\n",
        "reads the pdf and converts into docs_object"
      ],
      "metadata": {
        "id": "Ry7f5HIsGPjl"
      }
    },
    {
      "cell_type": "code",
      "source": [
        "!pip install pypdf"
      ],
      "metadata": {
        "colab": {
          "base_uri": "https://localhost:8080/"
        },
        "id": "j7x3IcGWHVjt",
        "outputId": "6ae70a26-9e21-49b5-8586-2ba11881f73c"
      },
      "execution_count": null,
      "outputs": [
        {
          "output_type": "stream",
          "name": "stdout",
          "text": [
            "Collecting pypdf\n",
            "  Downloading pypdf-5.7.0-py3-none-any.whl.metadata (7.2 kB)\n",
            "Downloading pypdf-5.7.0-py3-none-any.whl (305 kB)\n",
            "\u001b[?25l   \u001b[90m━━━━━━━━━━━━━━━━━━━━━━━━━━━━━━━━━━━━━━━━\u001b[0m \u001b[32m0.0/305.5 kB\u001b[0m \u001b[31m?\u001b[0m eta \u001b[36m-:--:--\u001b[0m\r\u001b[2K   \u001b[91m━━━━━━━━━━━━━━━━━━━━━━━━━━━━━━━━━━━━━━\u001b[0m\u001b[91m╸\u001b[0m\u001b[90m━\u001b[0m \u001b[32m297.0/305.5 kB\u001b[0m \u001b[31m9.5 MB/s\u001b[0m eta \u001b[36m0:00:01\u001b[0m\r\u001b[2K   \u001b[90m━━━━━━━━━━━━━━━━━━━━━━━━━━━━━━━━━━━━━━━━\u001b[0m \u001b[32m305.5/305.5 kB\u001b[0m \u001b[31m7.0 MB/s\u001b[0m eta \u001b[36m0:00:00\u001b[0m\n",
            "\u001b[?25hInstalling collected packages: pypdf\n",
            "Successfully installed pypdf-5.7.0\n"
          ]
        }
      ]
    },
    {
      "cell_type": "code",
      "source": [
        "from langchain_community.document_loaders import PyPDFLoader\n",
        "\n",
        "loader = PyPDFLoader(\"dl-curriculum.pdf\")\n",
        "\n",
        "docs = loader.load()\n",
        "\n",
        "# display(docs)\n",
        "print(\"total_pages:\",len(docs))\n",
        "\n",
        "# first_page content and metadata\n",
        "display(docs[0].page_content)\n",
        "display(docs[0].metadata)"
      ],
      "metadata": {
        "colab": {
          "base_uri": "https://localhost:8080/",
          "height": 253
        },
        "id": "-yZonF3BF6C5",
        "outputId": "7eef1d10-95e7-4ff7-bfe0-77bf46023fdb"
      },
      "execution_count": null,
      "outputs": [
        {
          "output_type": "stream",
          "name": "stdout",
          "text": [
            "total_pages: 23\n"
          ]
        },
        {
          "output_type": "display_data",
          "data": {
            "text/plain": [
              "'CampusXDeepLearningCurriculum\\nA.ArtificialNeuralNetworkandhowtoimprovethem\\n1.BiologicalInspiration\\n● Understandingtheneuronstructure● Synapsesandsignaltransmission● Howbiologicalconceptstranslatetoartificialneurons\\n2.HistoryofNeuralNetworks\\n● Earlymodels(Perceptron)● BackpropagationandMLPs● The\"AIWinter\"andresurgenceofneuralnetworks● Emergenceofdeeplearning\\n3.PerceptronandMultilayerPerceptrons(MLP)\\n● Single-layerperceptronlimitations● XORproblemandtheneedforhiddenlayers● MLParchitecture\\n4. LayersandTheirFunctions\\n● InputLayer○ Acceptinginputdata● HiddenLayers○ Featureextraction● OutputLayer○ Producingfinalpredictions\\n5.ActivationFunctions'"
            ],
            "application/vnd.google.colaboratory.intrinsic+json": {
              "type": "string"
            }
          },
          "metadata": {}
        },
        {
          "output_type": "display_data",
          "data": {
            "text/plain": [
              "{'producer': 'Skia/PDF m131 Google Docs Renderer',\n",
              " 'creator': 'PyPDF',\n",
              " 'creationdate': '',\n",
              " 'title': 'Deep Learning Curriculum',\n",
              " 'source': 'dl-curriculum.pdf',\n",
              " 'total_pages': 23,\n",
              " 'page': 0,\n",
              " 'page_label': '1'}"
            ]
          },
          "metadata": {}
        }
      ]
    },
    {
      "cell_type": "markdown",
      "source": [
        "pdfplumber loader - for tables\n",
        "unstructured pdf loader-for images"
      ],
      "metadata": {
        "id": "HKOY3JfzI4Y0"
      }
    },
    {
      "cell_type": "markdown",
      "source": [
        "# DirectoryLoader _for loading the folder and its content"
      ],
      "metadata": {
        "id": "M5pLoFLBKCEc"
      }
    },
    {
      "cell_type": "code",
      "source": [
        "from langchain_community.document_loaders import DirectoryLoader, TextLoader, PyPDFLoader\n",
        "loader = DirectoryLoader(\n",
        "    path=\"sample_data\",\n",
        "    glob=\"*.md\",\n",
        "    loader_cls=TextLoader\n",
        ")\n",
        "\n",
        "\n",
        "docs = loader.load()\n",
        "\n",
        "display(docs[0].page_content)\n",
        "display(docs[0].metadata)"
      ],
      "metadata": {
        "id": "xwhaFQf5F53w",
        "colab": {
          "base_uri": "https://localhost:8080/",
          "height": 144
        },
        "outputId": "39db9c64-ab89-45ad-b8e9-62cbc4bed2a5"
      },
      "execution_count": 37,
      "outputs": [
        {
          "output_type": "display_data",
          "data": {
            "text/plain": [
              "\"This directory includes a few sample datasets to get you started.\\n\\n*   `california_housing_data*.csv` is California housing data from the 1990 US\\n    Census; more information is available at:\\n    https://docs.google.com/document/d/e/2PACX-1vRhYtsvc5eOR2FWNCwaBiKL6suIOrxJig8LcSBbmCbyYsayia_DvPOOBlXZ4CAlQ5nlDD8kTaIDRwrN/pub\\n\\n*   `mnist_*.csv` is a small sample of the\\n    [MNIST database](https://en.wikipedia.org/wiki/MNIST_database), which is\\n    described at: http://yann.lecun.com/exdb/mnist/\\n\\n*   `anscombe.json` contains a copy of\\n    [Anscombe's quartet](https://en.wikipedia.org/wiki/Anscombe%27s_quartet); it\\n    was originally described in\\n\\n    Anscombe, F. J. (1973). 'Graphs in Statistical Analysis'. American\\n    Statistician. 27 (1): 17-21. JSTOR 2682899.\\n\\n    and our copy was prepared by the\\n    [vega_datasets library](https://github.com/altair-viz/vega_datasets/blob/4f67bdaad10f45e3549984e17e1b3088c731503d/vega_datasets/_data/anscombe.json).\\n\""
            ],
            "application/vnd.google.colaboratory.intrinsic+json": {
              "type": "string"
            }
          },
          "metadata": {}
        },
        {
          "output_type": "display_data",
          "data": {
            "text/plain": [
              "{'source': 'sample_data/README.md'}"
            ]
          },
          "metadata": {}
        }
      ]
    },
    {
      "cell_type": "markdown",
      "source": [
        "# LazyLoading\n",
        "use when you have large number of docs"
      ],
      "metadata": {
        "id": "wcdEcaUeNb0U"
      }
    },
    {
      "cell_type": "code",
      "source": [
        "from langchain_community.document_loaders import DirectoryLoader, TextLoader, PyPDFLoader\n",
        "loader = DirectoryLoader(\n",
        "    path=\"sample_data\",\n",
        "    glob=\"*.csv\",\n",
        "    loader_cls=TextLoader\n",
        ")\n",
        "\n",
        "\n",
        "# docs = loader.load()\n",
        "docs = loader.lazy_load()\n",
        "\n",
        "for document in docs:\n",
        "  print(document.metadata)"
      ],
      "metadata": {
        "colab": {
          "base_uri": "https://localhost:8080/"
        },
        "id": "aV32-aXzLY1T",
        "outputId": "70ca6209-8c39-40bc-b70a-d63d3cf0adb1"
      },
      "execution_count": 40,
      "outputs": [
        {
          "output_type": "stream",
          "name": "stdout",
          "text": [
            "{'source': 'sample_data/california_housing_train.csv'}\n",
            "{'source': 'sample_data/mnist_train_small.csv'}\n",
            "{'source': 'sample_data/mnist_test.csv'}\n",
            "{'source': 'sample_data/california_housing_test.csv'}\n"
          ]
        }
      ]
    },
    {
      "cell_type": "markdown",
      "source": [
        "# WebBasedLoader\n",
        "loads and extracts text content from the urls"
      ],
      "metadata": {
        "id": "Ahjsv4NHPBs0"
      }
    },
    {
      "cell_type": "code",
      "source": [
        "from langchain_community.document_loaders import WebBaseLoader\n",
        "\n",
        "url = \"https://medium.com/big-data-processing/global-snapshot-chandy-lamport-algorithm-consistent-cut-ec85aa3e7c9d\"\n",
        "loader = WebBaseLoader(url)\n",
        "\n",
        "docs = loader.load()\n",
        "\n",
        "display(len(docs))\n",
        "display(docs[0].page_content)"
      ],
      "metadata": {
        "colab": {
          "base_uri": "https://localhost:8080/",
          "height": 145
        },
        "id": "GWjEmY06OqGF",
        "outputId": "e5e38970-48d7-4e98-98cf-b3875a17f249"
      },
      "execution_count": 43,
      "outputs": [
        {
          "output_type": "display_data",
          "data": {
            "text/plain": [
              "1"
            ]
          },
          "metadata": {}
        },
        {
          "output_type": "display_data",
          "data": {
            "text/plain": [
              "'Global Snapshot, Chandy Lamport Algorithm & Consistent Cut | by Sruthi Sree Kumar | Big Data Processing | MediumSitemapOpen in appSign upSign inMedium LogoWriteSign upSign inBig Data Processing·Big data processing, Apache Flink,Apache Spark, Apache Hadoop, data-ops, data engineeringGlobal Snapshot, Chandy Lamport Algorithm & Consistent CutSruthi Sree Kumar3 min read·May 17, 2020--ListenShareA Global Snapshot or a global state consists of local states of each process in the distributed system along with the in-transit messages on communication channels. The snapshot problem in a distributed system tries to determine the “current” snapshot of the global state without stopping the system. A Global snapshot is important, in many scenarios such as:determine safety points for a distributed databasedeadlock detectiontermination of an algorithmgarbage collection of objectsto find out the current load of a distributed systemTwo major problems in determining a global snapshot are:One cannot catch all processes at the same timeMessages that are on the way cannot be seenThe classical algorithm that is used to determine a global snapshot in a distributed system is the Chandy-Lamport Global Snapshot Algorithm, 1985.The assumptions of the algorithm are as follows:Neither channels nor processes fail, communication is reliableChannels are unidirectional and provide FIFO-ordered deliveryThere is a communication path between any two processes in the systemAny process may initiate the snapshot algorithmThe snapshot algorithm does not interfere with the normal execution of the processesEach process in the system records its local state and the state of its incoming channelsGlobal state is collected in a distributed mannerThe snapshot algorithm works using marker messages. The marker message is a special control message and not an application message. It does not interfere with application messages. The algorithm has three phases: Initiation, Propagation and Termination and works as follows:1. Initiating a SnapshotProcess Pi initiates the snapshot.The initiator, Pi records its own state and creates the marker message.Pi then forwards the marker message to all other processes using the using N-1 outbound channels Cij(j = 1 to N & j != i).Pi starts recording all incoming messages from channels Cji (j = 1 to N & j != i).2. Propagating a SnapshotIf a process Pj receives a Marker message on an incoming channel Ckj, and if this is the first Marker that Pj is seeing:Pj records its own state and mark Ckj as empty.Pj then forwards the marker message to all other processes using the N-1 outbound channels.Pj starts recording all incoming messages from channels Clj for l not equal to j or k.If the process Pj has already seen a Marker message:Mark the state of channel Ckj as all the messages that have arrived on it since the recording was turned on for Ckj.3. Terminating a SnapshotThe algorithm terminates when:All processes have received a marker (which implies that process state has been recorded)All processes have received a marker on all the N-1 incoming channels (which implies that state of all channels has been recorded)Later, if needed, the central server collects all these partial states to build the global snapshot.Consistent CutA cut in a space-time diagram is a line joining an arbitrary point on each process line that slices the space‐time diagram into a PAST and a FUTURE. A consistent global state corresponds to a cut in which every message received in the PAST of the cut was sent in the PAST of that cut. Such a cut is known as a consistent cut. A consistent cut obeys causality and any run of the Chandy-Lamport Global Snapshot algorithm creates a consistent cut.Fig 1: Consistent vs Inconsistent CutReferences:[1] https://www.coursera.org/learn/cloud-computing/lecture/hndGi/1-2-global-snapshot-algorithm[2] https://en.wikipedia.org/wiki/Chandy%E2%80%93Lamport_algorithmDistributed SystemsDistributed AlgorithmsSnapshotAlgorithms----Published in Big Data Processing284 followers·Last published\\xa0Feb 14, 2025Big data processing, Apache Flink,Apache Spark, Apache Hadoop, data-ops, data engineeringWritten by Sruthi Sree Kumar63 followers·8 followingSoftware EngineerNo responses yetHelpStatusAboutCareersPressBlogPrivacyRulesTermsText to speech\\n\\n\\n\\n\\n\\n\\n\\n\\n\\n\\n\\n\\n\\n\\n\\n\\n\\n\\n\\n\\n\\n\\n\\n\\n\\n\\n\\n\\n\\n\\n\\n\\n\\n\\n\\n'"
            ],
            "application/vnd.google.colaboratory.intrinsic+json": {
              "type": "string"
            }
          },
          "metadata": {}
        }
      ]
    },
    {
      "cell_type": "code",
      "source": [
        "from langchain_google_genai import ChatGoogleGenerativeAI\n",
        "from langchain_community.document_loaders import TextLoader\n",
        "from langchain_core.output_parsers import StrOutputParser\n",
        "from langchain_core.prompts import PromptTemplate\n",
        "from langchain_community.document_loaders import WebBaseLoader\n",
        "\n",
        "\n",
        "model = ChatGoogleGenerativeAI(model=\"gemini-2.5-flash\")\n",
        "\n",
        "\n",
        "\n",
        "\n",
        "prompt = PromptTemplate(\n",
        "    template=\"write a summary for the following poem \\n {poem}\",\n",
        "    input_variables=[\"poem\"]\n",
        ")\n",
        "\n",
        "parser = StrOutputParser()\n",
        "\n",
        "url = \"https://medium.com/big-data-processing/global-snapshot-chandy-lamport-algorithm-consistent-cut-ec85aa3e7c9d\"\n",
        "loader = WebBaseLoader(url)\n",
        "\n",
        "\n",
        "chain = prompt | model | parser\n",
        "\n",
        "chain.invoke({\"question\":\"what is Global Snapshot?\", \"text\":docs[0].page_content})"
      ],
      "metadata": {
        "id": "o4SGIg0VQZ84"
      },
      "execution_count": null,
      "outputs": []
    },
    {
      "cell_type": "markdown",
      "source": [
        "# CSVLoader"
      ],
      "metadata": {
        "id": "p6jVdxijS9zS"
      }
    },
    {
      "cell_type": "code",
      "source": [
        "from langchain_community.document_loaders import CSVLoader\n",
        "\n",
        "loader = CSVLoader(file_path=\"Social_Network_Ads.csv\")\n",
        "\n",
        "docs = loader.load()\n",
        "\n",
        "print(\"total_rows: \",len(docs))\n",
        "print(data[0])"
      ],
      "metadata": {
        "colab": {
          "base_uri": "https://localhost:8080/"
        },
        "id": "ldn4vLl7S6KS",
        "outputId": "ed26e056-faec-4293-f794-b80078096868"
      },
      "execution_count": 49,
      "outputs": [
        {
          "output_type": "stream",
          "name": "stdout",
          "text": [
            "total_rows:  400\n",
            "page_content='User ID: 15624510\n",
            "Gender: Male\n",
            "Age: 19\n",
            "EstimatedSalary: 19000\n",
            "Purchased: 0' metadata={'source': 'Social_Network_Ads.csv', 'row': 0}\n"
          ]
        }
      ]
    }
  ]
}