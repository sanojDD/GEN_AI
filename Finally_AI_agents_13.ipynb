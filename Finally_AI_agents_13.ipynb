{
  "nbformat": 4,
  "nbformat_minor": 0,
  "metadata": {
    "colab": {
      "provenance": []
    },
    "kernelspec": {
      "name": "python3",
      "display_name": "Python 3"
    },
    "language_info": {
      "name": "python"
    }
  },
  "cells": [
    {
      "cell_type": "code",
      "execution_count": null,
      "metadata": {
        "colab": {
          "base_uri": "https://localhost:8080/"
        },
        "id": "YhOzW34h7aIW",
        "outputId": "36b9e02a-ffbf-40e0-ce95-380c38563806"
      },
      "outputs": [
        {
          "output_type": "stream",
          "name": "stdout",
          "text": [
            "Requirement already satisfied: langchain in /usr/local/lib/python3.11/dist-packages (0.3.26)\n",
            "Requirement already satisfied: langchain-core in /usr/local/lib/python3.11/dist-packages (0.3.68)\n",
            "Collecting langchain-community\n",
            "  Downloading langchain_community-0.3.27-py3-none-any.whl.metadata (2.9 kB)\n",
            "Requirement already satisfied: langchain-text-splitters<1.0.0,>=0.3.8 in /usr/local/lib/python3.11/dist-packages (from langchain) (0.3.8)\n",
            "Requirement already satisfied: langsmith>=0.1.17 in /usr/local/lib/python3.11/dist-packages (from langchain) (0.4.4)\n",
            "Requirement already satisfied: pydantic<3.0.0,>=2.7.4 in /usr/local/lib/python3.11/dist-packages (from langchain) (2.11.7)\n",
            "Requirement already satisfied: SQLAlchemy<3,>=1.4 in /usr/local/lib/python3.11/dist-packages (from langchain) (2.0.41)\n",
            "Requirement already satisfied: requests<3,>=2 in /usr/local/lib/python3.11/dist-packages (from langchain) (2.32.3)\n",
            "Requirement already satisfied: PyYAML>=5.3 in /usr/local/lib/python3.11/dist-packages (from langchain) (6.0.2)\n",
            "Requirement already satisfied: tenacity!=8.4.0,<10.0.0,>=8.1.0 in /usr/local/lib/python3.11/dist-packages (from langchain-core) (8.5.0)\n",
            "Requirement already satisfied: jsonpatch<2.0,>=1.33 in /usr/local/lib/python3.11/dist-packages (from langchain-core) (1.33)\n",
            "Requirement already satisfied: packaging<25,>=23.2 in /usr/local/lib/python3.11/dist-packages (from langchain-core) (24.2)\n",
            "Requirement already satisfied: typing-extensions>=4.7 in /usr/local/lib/python3.11/dist-packages (from langchain-core) (4.14.1)\n",
            "Requirement already satisfied: aiohttp<4.0.0,>=3.8.3 in /usr/local/lib/python3.11/dist-packages (from langchain-community) (3.11.15)\n",
            "Collecting dataclasses-json<0.7,>=0.5.7 (from langchain-community)\n",
            "  Downloading dataclasses_json-0.6.7-py3-none-any.whl.metadata (25 kB)\n",
            "Collecting pydantic-settings<3.0.0,>=2.4.0 (from langchain-community)\n",
            "  Downloading pydantic_settings-2.10.1-py3-none-any.whl.metadata (3.4 kB)\n",
            "Collecting httpx-sse<1.0.0,>=0.4.0 (from langchain-community)\n",
            "  Downloading httpx_sse-0.4.1-py3-none-any.whl.metadata (9.4 kB)\n",
            "Requirement already satisfied: numpy>=1.26.2 in /usr/local/lib/python3.11/dist-packages (from langchain-community) (2.0.2)\n",
            "Requirement already satisfied: aiohappyeyeballs>=2.3.0 in /usr/local/lib/python3.11/dist-packages (from aiohttp<4.0.0,>=3.8.3->langchain-community) (2.6.1)\n",
            "Requirement already satisfied: aiosignal>=1.1.2 in /usr/local/lib/python3.11/dist-packages (from aiohttp<4.0.0,>=3.8.3->langchain-community) (1.4.0)\n",
            "Requirement already satisfied: attrs>=17.3.0 in /usr/local/lib/python3.11/dist-packages (from aiohttp<4.0.0,>=3.8.3->langchain-community) (25.3.0)\n",
            "Requirement already satisfied: frozenlist>=1.1.1 in /usr/local/lib/python3.11/dist-packages (from aiohttp<4.0.0,>=3.8.3->langchain-community) (1.7.0)\n",
            "Requirement already satisfied: multidict<7.0,>=4.5 in /usr/local/lib/python3.11/dist-packages (from aiohttp<4.0.0,>=3.8.3->langchain-community) (6.6.3)\n",
            "Requirement already satisfied: propcache>=0.2.0 in /usr/local/lib/python3.11/dist-packages (from aiohttp<4.0.0,>=3.8.3->langchain-community) (0.3.2)\n",
            "Requirement already satisfied: yarl<2.0,>=1.17.0 in /usr/local/lib/python3.11/dist-packages (from aiohttp<4.0.0,>=3.8.3->langchain-community) (1.20.1)\n",
            "Collecting marshmallow<4.0.0,>=3.18.0 (from dataclasses-json<0.7,>=0.5.7->langchain-community)\n",
            "  Downloading marshmallow-3.26.1-py3-none-any.whl.metadata (7.3 kB)\n",
            "Collecting typing-inspect<1,>=0.4.0 (from dataclasses-json<0.7,>=0.5.7->langchain-community)\n",
            "  Downloading typing_inspect-0.9.0-py3-none-any.whl.metadata (1.5 kB)\n",
            "Requirement already satisfied: jsonpointer>=1.9 in /usr/local/lib/python3.11/dist-packages (from jsonpatch<2.0,>=1.33->langchain-core) (3.0.0)\n",
            "Requirement already satisfied: httpx<1,>=0.23.0 in /usr/local/lib/python3.11/dist-packages (from langsmith>=0.1.17->langchain) (0.28.1)\n",
            "Requirement already satisfied: orjson<4.0.0,>=3.9.14 in /usr/local/lib/python3.11/dist-packages (from langsmith>=0.1.17->langchain) (3.10.18)\n",
            "Requirement already satisfied: requests-toolbelt<2.0.0,>=1.0.0 in /usr/local/lib/python3.11/dist-packages (from langsmith>=0.1.17->langchain) (1.0.0)\n",
            "Requirement already satisfied: zstandard<0.24.0,>=0.23.0 in /usr/local/lib/python3.11/dist-packages (from langsmith>=0.1.17->langchain) (0.23.0)\n",
            "Requirement already satisfied: annotated-types>=0.6.0 in /usr/local/lib/python3.11/dist-packages (from pydantic<3.0.0,>=2.7.4->langchain) (0.7.0)\n",
            "Requirement already satisfied: pydantic-core==2.33.2 in /usr/local/lib/python3.11/dist-packages (from pydantic<3.0.0,>=2.7.4->langchain) (2.33.2)\n",
            "Requirement already satisfied: typing-inspection>=0.4.0 in /usr/local/lib/python3.11/dist-packages (from pydantic<3.0.0,>=2.7.4->langchain) (0.4.1)\n",
            "Collecting python-dotenv>=0.21.0 (from pydantic-settings<3.0.0,>=2.4.0->langchain-community)\n",
            "  Downloading python_dotenv-1.1.1-py3-none-any.whl.metadata (24 kB)\n",
            "Requirement already satisfied: charset-normalizer<4,>=2 in /usr/local/lib/python3.11/dist-packages (from requests<3,>=2->langchain) (3.4.2)\n",
            "Requirement already satisfied: idna<4,>=2.5 in /usr/local/lib/python3.11/dist-packages (from requests<3,>=2->langchain) (3.10)\n",
            "Requirement already satisfied: urllib3<3,>=1.21.1 in /usr/local/lib/python3.11/dist-packages (from requests<3,>=2->langchain) (2.4.0)\n",
            "Requirement already satisfied: certifi>=2017.4.17 in /usr/local/lib/python3.11/dist-packages (from requests<3,>=2->langchain) (2025.7.9)\n",
            "Requirement already satisfied: greenlet>=1 in /usr/local/lib/python3.11/dist-packages (from SQLAlchemy<3,>=1.4->langchain) (3.2.3)\n",
            "Requirement already satisfied: anyio in /usr/local/lib/python3.11/dist-packages (from httpx<1,>=0.23.0->langsmith>=0.1.17->langchain) (4.9.0)\n",
            "Requirement already satisfied: httpcore==1.* in /usr/local/lib/python3.11/dist-packages (from httpx<1,>=0.23.0->langsmith>=0.1.17->langchain) (1.0.9)\n",
            "Requirement already satisfied: h11>=0.16 in /usr/local/lib/python3.11/dist-packages (from httpcore==1.*->httpx<1,>=0.23.0->langsmith>=0.1.17->langchain) (0.16.0)\n",
            "Collecting mypy-extensions>=0.3.0 (from typing-inspect<1,>=0.4.0->dataclasses-json<0.7,>=0.5.7->langchain-community)\n",
            "  Downloading mypy_extensions-1.1.0-py3-none-any.whl.metadata (1.1 kB)\n",
            "Requirement already satisfied: sniffio>=1.1 in /usr/local/lib/python3.11/dist-packages (from anyio->httpx<1,>=0.23.0->langsmith>=0.1.17->langchain) (1.3.1)\n",
            "Downloading langchain_community-0.3.27-py3-none-any.whl (2.5 MB)\n",
            "\u001b[2K   \u001b[90m━━━━━━━━━━━━━━━━━━━━━━━━━━━━━━━━━━━━━━━━\u001b[0m \u001b[32m2.5/2.5 MB\u001b[0m \u001b[31m29.3 MB/s\u001b[0m eta \u001b[36m0:00:00\u001b[0m\n",
            "\u001b[?25hDownloading dataclasses_json-0.6.7-py3-none-any.whl (28 kB)\n",
            "Downloading httpx_sse-0.4.1-py3-none-any.whl (8.1 kB)\n",
            "Downloading pydantic_settings-2.10.1-py3-none-any.whl (45 kB)\n",
            "\u001b[2K   \u001b[90m━━━━━━━━━━━━━━━━━━━━━━━━━━━━━━━━━━━━━━━━\u001b[0m \u001b[32m45.2/45.2 kB\u001b[0m \u001b[31m3.0 MB/s\u001b[0m eta \u001b[36m0:00:00\u001b[0m\n",
            "\u001b[?25hDownloading marshmallow-3.26.1-py3-none-any.whl (50 kB)\n",
            "\u001b[2K   \u001b[90m━━━━━━━━━━━━━━━━━━━━━━━━━━━━━━━━━━━━━━━━\u001b[0m \u001b[32m50.9/50.9 kB\u001b[0m \u001b[31m3.3 MB/s\u001b[0m eta \u001b[36m0:00:00\u001b[0m\n",
            "\u001b[?25hDownloading python_dotenv-1.1.1-py3-none-any.whl (20 kB)\n",
            "Downloading typing_inspect-0.9.0-py3-none-any.whl (8.8 kB)\n",
            "Downloading mypy_extensions-1.1.0-py3-none-any.whl (5.0 kB)\n",
            "Installing collected packages: python-dotenv, mypy-extensions, marshmallow, httpx-sse, typing-inspect, pydantic-settings, dataclasses-json, langchain-community\n",
            "Successfully installed dataclasses-json-0.6.7 httpx-sse-0.4.1 langchain-community-0.3.27 marshmallow-3.26.1 mypy-extensions-1.1.0 pydantic-settings-2.10.1 python-dotenv-1.1.1 typing-inspect-0.9.0\n"
          ]
        }
      ],
      "source": [
        "!pip install langchain langchain-core langchain-community"
      ]
    },
    {
      "cell_type": "code",
      "source": [
        "!pip install pydantic duckduckgo-search"
      ],
      "metadata": {
        "colab": {
          "base_uri": "https://localhost:8080/"
        },
        "id": "wDR4iq3Rdi7B",
        "outputId": "207cb9dd-5692-463a-e629-8bf34a13df3f"
      },
      "execution_count": null,
      "outputs": [
        {
          "output_type": "stream",
          "name": "stdout",
          "text": [
            "Requirement already satisfied: pydantic in /usr/local/lib/python3.11/dist-packages (2.11.7)\n",
            "Collecting duckduckgo-search\n",
            "  Downloading duckduckgo_search-8.1.1-py3-none-any.whl.metadata (16 kB)\n",
            "Requirement already satisfied: annotated-types>=0.6.0 in /usr/local/lib/python3.11/dist-packages (from pydantic) (0.7.0)\n",
            "Requirement already satisfied: pydantic-core==2.33.2 in /usr/local/lib/python3.11/dist-packages (from pydantic) (2.33.2)\n",
            "Requirement already satisfied: typing-extensions>=4.12.2 in /usr/local/lib/python3.11/dist-packages (from pydantic) (4.14.1)\n",
            "Requirement already satisfied: typing-inspection>=0.4.0 in /usr/local/lib/python3.11/dist-packages (from pydantic) (0.4.1)\n",
            "Requirement already satisfied: click>=8.1.8 in /usr/local/lib/python3.11/dist-packages (from duckduckgo-search) (8.2.1)\n",
            "Collecting primp>=0.15.0 (from duckduckgo-search)\n",
            "  Downloading primp-0.15.0-cp38-abi3-manylinux_2_17_x86_64.manylinux2014_x86_64.whl.metadata (13 kB)\n",
            "Requirement already satisfied: lxml>=5.3.0 in /usr/local/lib/python3.11/dist-packages (from duckduckgo-search) (5.4.0)\n",
            "Downloading duckduckgo_search-8.1.1-py3-none-any.whl (18 kB)\n",
            "Downloading primp-0.15.0-cp38-abi3-manylinux_2_17_x86_64.manylinux2014_x86_64.whl (3.3 MB)\n",
            "\u001b[2K   \u001b[90m━━━━━━━━━━━━━━━━━━━━━━━━━━━━━━━━━━━━━━━━\u001b[0m \u001b[32m3.3/3.3 MB\u001b[0m \u001b[31m31.4 MB/s\u001b[0m eta \u001b[36m0:00:00\u001b[0m\n",
            "\u001b[?25hInstalling collected packages: primp, duckduckgo-search\n",
            "Successfully installed duckduckgo-search-8.1.1 primp-0.15.0\n"
          ]
        }
      ]
    },
    {
      "cell_type": "code",
      "source": [
        "!pip install langchain-google-genai google-generativeai"
      ],
      "metadata": {
        "colab": {
          "base_uri": "https://localhost:8080/"
        },
        "id": "0pr8YynGdprb",
        "outputId": "c8160747-c567-4dc4-e5e2-19288bcce0b4"
      },
      "execution_count": null,
      "outputs": [
        {
          "output_type": "stream",
          "name": "stdout",
          "text": [
            "Collecting langchain-google-genai\n",
            "  Downloading langchain_google_genai-2.1.7-py3-none-any.whl.metadata (7.0 kB)\n",
            "Requirement already satisfied: google-generativeai in /usr/local/lib/python3.11/dist-packages (0.8.5)\n",
            "Collecting filetype<2.0.0,>=1.2.0 (from langchain-google-genai)\n",
            "  Downloading filetype-1.2.0-py2.py3-none-any.whl.metadata (6.5 kB)\n",
            "Collecting google-ai-generativelanguage<0.7.0,>=0.6.18 (from langchain-google-genai)\n",
            "  Downloading google_ai_generativelanguage-0.6.18-py3-none-any.whl.metadata (9.8 kB)\n",
            "Requirement already satisfied: langchain-core<0.4.0,>=0.3.68 in /usr/local/lib/python3.11/dist-packages (from langchain-google-genai) (0.3.68)\n",
            "Requirement already satisfied: pydantic<3,>=2 in /usr/local/lib/python3.11/dist-packages (from langchain-google-genai) (2.11.7)\n",
            "INFO: pip is looking at multiple versions of google-generativeai to determine which version is compatible with other requirements. This could take a while.\n",
            "Collecting google-generativeai\n",
            "  Downloading google_generativeai-0.8.4-py3-none-any.whl.metadata (4.2 kB)\n",
            "  Downloading google_generativeai-0.8.3-py3-none-any.whl.metadata (3.9 kB)\n",
            "  Downloading google_generativeai-0.8.2-py3-none-any.whl.metadata (3.9 kB)\n",
            "  Downloading google_generativeai-0.8.1-py3-none-any.whl.metadata (3.9 kB)\n",
            "  Downloading google_generativeai-0.8.0-py3-none-any.whl.metadata (3.9 kB)\n",
            "  Downloading google_generativeai-0.7.2-py3-none-any.whl.metadata (4.0 kB)\n",
            "  Downloading google_generativeai-0.7.1-py3-none-any.whl.metadata (3.9 kB)\n",
            "INFO: pip is still looking at multiple versions of google-generativeai to determine which version is compatible with other requirements. This could take a while.\n",
            "  Downloading google_generativeai-0.7.0-py3-none-any.whl.metadata (3.9 kB)\n",
            "  Downloading google_generativeai-0.6.0-py3-none-any.whl.metadata (3.9 kB)\n",
            "  Downloading google_generativeai-0.5.4-py3-none-any.whl.metadata (3.9 kB)\n",
            "  Downloading google_generativeai-0.5.3-py3-none-any.whl.metadata (3.9 kB)\n",
            "  Downloading google_generativeai-0.5.2-py3-none-any.whl.metadata (3.9 kB)\n",
            "INFO: This is taking longer than usual. You might need to provide the dependency resolver with stricter constraints to reduce runtime. See https://pip.pypa.io/warnings/backtracking for guidance. If you want to abort this run, press Ctrl + C.\n",
            "  Downloading google_generativeai-0.5.1-py3-none-any.whl.metadata (3.9 kB)\n",
            "  Downloading google_generativeai-0.5.0-py3-none-any.whl.metadata (3.9 kB)\n",
            "  Downloading google_generativeai-0.4.1-py3-none-any.whl.metadata (6.2 kB)\n",
            "  Downloading google_generativeai-0.4.0-py3-none-any.whl.metadata (6.2 kB)\n",
            "  Downloading google_generativeai-0.3.2-py3-none-any.whl.metadata (5.9 kB)\n",
            "  Downloading google_generativeai-0.3.1-py3-none-any.whl.metadata (5.9 kB)\n",
            "  Downloading google_generativeai-0.3.0-py3-none-any.whl.metadata (5.8 kB)\n",
            "  Downloading google_generativeai-0.2.2-py3-none-any.whl.metadata (3.1 kB)\n",
            "  Downloading google_generativeai-0.2.1-py3-none-any.whl.metadata (3.1 kB)\n",
            "  Downloading google_generativeai-0.2.0-py3-none-any.whl.metadata (3.1 kB)\n",
            "  Downloading google_generativeai-0.1.0-py3-none-any.whl.metadata (3.0 kB)\n",
            "Collecting langchain-google-genai\n",
            "  Downloading langchain_google_genai-2.1.6-py3-none-any.whl.metadata (7.0 kB)\n",
            "  Downloading langchain_google_genai-2.1.5-py3-none-any.whl.metadata (5.2 kB)\n",
            "  Downloading langchain_google_genai-2.1.4-py3-none-any.whl.metadata (5.2 kB)\n",
            "  Downloading langchain_google_genai-2.1.3-py3-none-any.whl.metadata (4.7 kB)\n",
            "  Downloading langchain_google_genai-2.1.2-py3-none-any.whl.metadata (4.7 kB)\n",
            "  Downloading langchain_google_genai-2.1.1-py3-none-any.whl.metadata (4.7 kB)\n",
            "  Downloading langchain_google_genai-2.1.0-py3-none-any.whl.metadata (3.6 kB)\n",
            "  Downloading langchain_google_genai-2.0.11-py3-none-any.whl.metadata (3.6 kB)\n",
            "  Downloading langchain_google_genai-2.0.10-py3-none-any.whl.metadata (3.6 kB)\n",
            "Requirement already satisfied: google-ai-generativelanguage==0.6.15 in /usr/local/lib/python3.11/dist-packages (from google-generativeai) (0.6.15)\n",
            "Requirement already satisfied: google-api-core in /usr/local/lib/python3.11/dist-packages (from google-generativeai) (2.25.1)\n",
            "Requirement already satisfied: google-api-python-client in /usr/local/lib/python3.11/dist-packages (from google-generativeai) (2.176.0)\n",
            "Requirement already satisfied: google-auth>=2.15.0 in /usr/local/lib/python3.11/dist-packages (from google-generativeai) (2.38.0)\n",
            "Requirement already satisfied: protobuf in /usr/local/lib/python3.11/dist-packages (from google-generativeai) (5.29.5)\n",
            "Requirement already satisfied: tqdm in /usr/local/lib/python3.11/dist-packages (from google-generativeai) (4.67.1)\n",
            "Requirement already satisfied: typing-extensions in /usr/local/lib/python3.11/dist-packages (from google-generativeai) (4.14.1)\n",
            "Requirement already satisfied: proto-plus<2.0.0dev,>=1.22.3 in /usr/local/lib/python3.11/dist-packages (from google-ai-generativelanguage==0.6.15->google-generativeai) (1.26.1)\n",
            "Requirement already satisfied: googleapis-common-protos<2.0.0,>=1.56.2 in /usr/local/lib/python3.11/dist-packages (from google-api-core->google-generativeai) (1.70.0)\n",
            "Requirement already satisfied: requests<3.0.0,>=2.18.0 in /usr/local/lib/python3.11/dist-packages (from google-api-core->google-generativeai) (2.32.3)\n",
            "Requirement already satisfied: cachetools<6.0,>=2.0.0 in /usr/local/lib/python3.11/dist-packages (from google-auth>=2.15.0->google-generativeai) (5.5.2)\n",
            "Requirement already satisfied: pyasn1-modules>=0.2.1 in /usr/local/lib/python3.11/dist-packages (from google-auth>=2.15.0->google-generativeai) (0.4.2)\n",
            "Requirement already satisfied: rsa<5,>=3.1.4 in /usr/local/lib/python3.11/dist-packages (from google-auth>=2.15.0->google-generativeai) (4.9.1)\n",
            "Requirement already satisfied: langsmith>=0.3.45 in /usr/local/lib/python3.11/dist-packages (from langchain-core<0.4.0,>=0.3.68->langchain-google-genai) (0.4.4)\n",
            "Requirement already satisfied: tenacity!=8.4.0,<10.0.0,>=8.1.0 in /usr/local/lib/python3.11/dist-packages (from langchain-core<0.4.0,>=0.3.68->langchain-google-genai) (8.5.0)\n",
            "Requirement already satisfied: jsonpatch<2.0,>=1.33 in /usr/local/lib/python3.11/dist-packages (from langchain-core<0.4.0,>=0.3.68->langchain-google-genai) (1.33)\n",
            "Requirement already satisfied: PyYAML>=5.3 in /usr/local/lib/python3.11/dist-packages (from langchain-core<0.4.0,>=0.3.68->langchain-google-genai) (6.0.2)\n",
            "Requirement already satisfied: packaging<25,>=23.2 in /usr/local/lib/python3.11/dist-packages (from langchain-core<0.4.0,>=0.3.68->langchain-google-genai) (24.2)\n",
            "Requirement already satisfied: annotated-types>=0.6.0 in /usr/local/lib/python3.11/dist-packages (from pydantic<3,>=2->langchain-google-genai) (0.7.0)\n",
            "Requirement already satisfied: pydantic-core==2.33.2 in /usr/local/lib/python3.11/dist-packages (from pydantic<3,>=2->langchain-google-genai) (2.33.2)\n",
            "Requirement already satisfied: typing-inspection>=0.4.0 in /usr/local/lib/python3.11/dist-packages (from pydantic<3,>=2->langchain-google-genai) (0.4.1)\n",
            "Requirement already satisfied: httplib2<1.0.0,>=0.19.0 in /usr/local/lib/python3.11/dist-packages (from google-api-python-client->google-generativeai) (0.22.0)\n",
            "Requirement already satisfied: google-auth-httplib2<1.0.0,>=0.2.0 in /usr/local/lib/python3.11/dist-packages (from google-api-python-client->google-generativeai) (0.2.0)\n",
            "Requirement already satisfied: uritemplate<5,>=3.0.1 in /usr/local/lib/python3.11/dist-packages (from google-api-python-client->google-generativeai) (4.2.0)\n",
            "Requirement already satisfied: grpcio<2.0.0,>=1.33.2 in /usr/local/lib/python3.11/dist-packages (from google-api-core[grpc]!=2.0.*,!=2.1.*,!=2.10.*,!=2.2.*,!=2.3.*,!=2.4.*,!=2.5.*,!=2.6.*,!=2.7.*,!=2.8.*,!=2.9.*,<3.0.0dev,>=1.34.1->google-ai-generativelanguage==0.6.15->google-generativeai) (1.73.1)\n",
            "Requirement already satisfied: grpcio-status<2.0.0,>=1.33.2 in /usr/local/lib/python3.11/dist-packages (from google-api-core[grpc]!=2.0.*,!=2.1.*,!=2.10.*,!=2.2.*,!=2.3.*,!=2.4.*,!=2.5.*,!=2.6.*,!=2.7.*,!=2.8.*,!=2.9.*,<3.0.0dev,>=1.34.1->google-ai-generativelanguage==0.6.15->google-generativeai) (1.71.2)\n",
            "Requirement already satisfied: pyparsing!=3.0.0,!=3.0.1,!=3.0.2,!=3.0.3,<4,>=2.4.2 in /usr/local/lib/python3.11/dist-packages (from httplib2<1.0.0,>=0.19.0->google-api-python-client->google-generativeai) (3.2.3)\n",
            "Requirement already satisfied: jsonpointer>=1.9 in /usr/local/lib/python3.11/dist-packages (from jsonpatch<2.0,>=1.33->langchain-core<0.4.0,>=0.3.68->langchain-google-genai) (3.0.0)\n",
            "Requirement already satisfied: httpx<1,>=0.23.0 in /usr/local/lib/python3.11/dist-packages (from langsmith>=0.3.45->langchain-core<0.4.0,>=0.3.68->langchain-google-genai) (0.28.1)\n",
            "Requirement already satisfied: orjson<4.0.0,>=3.9.14 in /usr/local/lib/python3.11/dist-packages (from langsmith>=0.3.45->langchain-core<0.4.0,>=0.3.68->langchain-google-genai) (3.10.18)\n",
            "Requirement already satisfied: requests-toolbelt<2.0.0,>=1.0.0 in /usr/local/lib/python3.11/dist-packages (from langsmith>=0.3.45->langchain-core<0.4.0,>=0.3.68->langchain-google-genai) (1.0.0)\n",
            "Requirement already satisfied: zstandard<0.24.0,>=0.23.0 in /usr/local/lib/python3.11/dist-packages (from langsmith>=0.3.45->langchain-core<0.4.0,>=0.3.68->langchain-google-genai) (0.23.0)\n",
            "Requirement already satisfied: pyasn1<0.7.0,>=0.6.1 in /usr/local/lib/python3.11/dist-packages (from pyasn1-modules>=0.2.1->google-auth>=2.15.0->google-generativeai) (0.6.1)\n",
            "Requirement already satisfied: charset-normalizer<4,>=2 in /usr/local/lib/python3.11/dist-packages (from requests<3.0.0,>=2.18.0->google-api-core->google-generativeai) (3.4.2)\n",
            "Requirement already satisfied: idna<4,>=2.5 in /usr/local/lib/python3.11/dist-packages (from requests<3.0.0,>=2.18.0->google-api-core->google-generativeai) (3.10)\n",
            "Requirement already satisfied: urllib3<3,>=1.21.1 in /usr/local/lib/python3.11/dist-packages (from requests<3.0.0,>=2.18.0->google-api-core->google-generativeai) (2.4.0)\n",
            "Requirement already satisfied: certifi>=2017.4.17 in /usr/local/lib/python3.11/dist-packages (from requests<3.0.0,>=2.18.0->google-api-core->google-generativeai) (2025.7.9)\n",
            "Requirement already satisfied: anyio in /usr/local/lib/python3.11/dist-packages (from httpx<1,>=0.23.0->langsmith>=0.3.45->langchain-core<0.4.0,>=0.3.68->langchain-google-genai) (4.9.0)\n",
            "Requirement already satisfied: httpcore==1.* in /usr/local/lib/python3.11/dist-packages (from httpx<1,>=0.23.0->langsmith>=0.3.45->langchain-core<0.4.0,>=0.3.68->langchain-google-genai) (1.0.9)\n",
            "Requirement already satisfied: h11>=0.16 in /usr/local/lib/python3.11/dist-packages (from httpcore==1.*->httpx<1,>=0.23.0->langsmith>=0.3.45->langchain-core<0.4.0,>=0.3.68->langchain-google-genai) (0.16.0)\n",
            "Requirement already satisfied: sniffio>=1.1 in /usr/local/lib/python3.11/dist-packages (from anyio->httpx<1,>=0.23.0->langsmith>=0.3.45->langchain-core<0.4.0,>=0.3.68->langchain-google-genai) (1.3.1)\n",
            "Downloading langchain_google_genai-2.0.10-py3-none-any.whl (41 kB)\n",
            "\u001b[2K   \u001b[90m━━━━━━━━━━━━━━━━━━━━━━━━━━━━━━━━━━━━━━━━\u001b[0m \u001b[32m42.0/42.0 kB\u001b[0m \u001b[31m2.0 MB/s\u001b[0m eta \u001b[36m0:00:00\u001b[0m\n",
            "\u001b[?25hDownloading filetype-1.2.0-py2.py3-none-any.whl (19 kB)\n",
            "Installing collected packages: filetype, langchain-google-genai\n",
            "Successfully installed filetype-1.2.0 langchain-google-genai-2.0.10\n"
          ]
        }
      ]
    },
    {
      "cell_type": "code",
      "source": [
        "import os\n",
        "from google.colab import userdata\n",
        "\n",
        "# Access the API key from Colab's Secrets Manager\n",
        "os.environ[\"GOOGLE_API_KEY\"] = userdata.get('GOOGLE_API_KEY')"
      ],
      "metadata": {
        "id": "M1uQJ0tmd41F"
      },
      "execution_count": null,
      "outputs": []
    },
    {
      "cell_type": "code",
      "source": [
        "from langchain_google_genai import ChatGoogleGenerativeAI\n",
        "model = ChatGoogleGenerativeAI(model=\"gemini-1.5-flash-latest\")"
      ],
      "metadata": {
        "id": "y8QjOH1ld-bm"
      },
      "execution_count": null,
      "outputs": []
    },
    {
      "cell_type": "code",
      "source": [
        "from langchain_community.tools import DuckDuckGoSearchRun\n",
        "from langchain_core.tools import tool\n",
        "import requests"
      ],
      "metadata": {
        "id": "szUpNebceCgx"
      },
      "execution_count": 81,
      "outputs": []
    },
    {
      "cell_type": "code",
      "source": [
        "@tool\n",
        "def get_current_weather(city:str) -> str:\n",
        "  \"\"\" Get the current weather in a given city\"\"\"\n",
        "  url = f\"https://api.weatherstack.com/current?access_key=fd47af7d136a960dd5f1d99aff1c5dad&query={city}\"\n",
        "  response = requests.get(url)\n",
        "  return response.json()"
      ],
      "metadata": {
        "id": "-1nebUIdvdF_"
      },
      "execution_count": 82,
      "outputs": []
    },
    {
      "cell_type": "code",
      "source": [
        "search_tool = DuckDuckGoSearchRun()"
      ],
      "metadata": {
        "id": "FNvr-nqreCcg"
      },
      "execution_count": null,
      "outputs": []
    },
    {
      "cell_type": "code",
      "source": [
        "results = search_tool.invoke(\"world news\")\n",
        "results"
      ],
      "metadata": {
        "colab": {
          "base_uri": "https://localhost:8080/",
          "height": 164
        },
        "id": "z-7APw4leCXP",
        "outputId": "386912f7-79ae-4121-93b9-fdd75cd79880"
      },
      "execution_count": 80,
      "outputs": [
        {
          "output_type": "stream",
          "name": "stderr",
          "text": [
            "/usr/local/lib/python3.11/dist-packages/langchain_community/utilities/duckduckgo_search.py:63: RuntimeWarning: This package (`duckduckgo_search`) has been renamed to `ddgs`! Use `pip install ddgs` instead.\n",
            "  with DDGS() as ddgs:\n"
          ]
        },
        {
          "output_type": "execute_result",
          "data": {
            "text/plain": [
              "'Read the latest headlines, breaking news, and videos at APNews.com, the definitive source for independent journalism from every corner of the globe. World news today: Stay informed with the latest international news and live updates on breaking global events from The Hindu. Explore in-depth coverage of stories from across the globe, … Stay updated with the latest global news and developments on this comprehensive platform covering diverse topics from politics, economy to cultural events worldwide. 2 days ago · Stay on top of News latest developments on the ground with Al Jazeera’s fact-based news, exclusive video footage, photos and updated maps. Your trusted source for breaking news, analysis, exclusive interviews, headlines, and videos at ABCNews.com'"
            ],
            "application/vnd.google.colaboratory.intrinsic+json": {
              "type": "string"
            }
          },
          "metadata": {},
          "execution_count": 80
        }
      ]
    },
    {
      "cell_type": "code",
      "source": [
        "results"
      ],
      "metadata": {
        "colab": {
          "base_uri": "https://localhost:8080/",
          "height": 126
        },
        "id": "e_dGQgtaeu75",
        "outputId": "55195ae8-b329-4a03-b5b0-2d6eb8da6f58"
      },
      "execution_count": null,
      "outputs": [
        {
          "output_type": "execute_result",
          "data": {
            "text/plain": [
              "'Over the centuries, different dialects of the Nepali language with distinct influences from Sanskrit, Maithili, Hindi, and Bengali are believed to have emerged across different regions of the … You can use our online Nepali input tool to transliterate unlimited Nepali words for FREE. Our online software is supported on both desktop and mobile devices such as Apple iPhone, … Jun 27, 2025 · Nepali language, member of the Pahari subgroup of the Indo-Aryan group of the Indo-Iranian division of the Indo-European languages. Nepali is spoken by more than 17 … Nepali is a member of the Eastern Pahari branch of the Indo-Aryan language family. It is spoken mainly in Nepal and northern India by about 32 million people, 19 million of whom speak it as a … Feb 16, 2025 · Nepali is a language in the Indo-Aryan family, which is primarily spoken in Nepal. Nepali is also spoken in the eastern parts of India, and in Myanmar (Burma) and Bhutan.'"
            ],
            "application/vnd.google.colaboratory.intrinsic+json": {
              "type": "string"
            }
          },
          "metadata": {},
          "execution_count": 54
        }
      ]
    },
    {
      "cell_type": "code",
      "source": [
        "!pip install ddgs"
      ],
      "metadata": {
        "id": "WeQr7XvsfwkI"
      },
      "execution_count": null,
      "outputs": []
    },
    {
      "cell_type": "code",
      "source": [
        "from ddgs import DDGS\n",
        "search_tool = DDGS()\n",
        "result = search_tool.text(\"todays date in nepali?\")"
      ],
      "metadata": {
        "id": "5moH8WVlfSx3"
      },
      "execution_count": null,
      "outputs": []
    },
    {
      "cell_type": "code",
      "source": [
        "(result)[1]"
      ],
      "metadata": {
        "colab": {
          "base_uri": "https://localhost:8080/"
        },
        "id": "keCH9ggHfVYV",
        "outputId": "1d192eb1-8aa0-47c5-b254-6b2b83dcef76"
      },
      "execution_count": null,
      "outputs": [
        {
          "output_type": "execute_result",
          "data": {
            "text/plain": [
              "{'title': 'Today Nepali Date and Time - Ankjit',\n",
              " 'href': 'https://ankjit.com.np/today-nepali-date-and-time/',\n",
              " 'body': 'Nov 28, 2023 · We have developed a dynamic Nepali calendar where you can see today’sNepali month, day, and current Nepali time. You can bookmark this page to check Nepalidates and times daily.'}"
            ]
          },
          "metadata": {},
          "execution_count": 61
        }
      ]
    },
    {
      "cell_type": "code",
      "source": [
        "llm = ChatGoogleGenerativeAI(model=\"gemini-1.5-flash-latest\")"
      ],
      "metadata": {
        "id": "bcO2bykdfgK5"
      },
      "execution_count": null,
      "outputs": []
    },
    {
      "cell_type": "markdown",
      "source": [
        "# AGENT"
      ],
      "metadata": {
        "id": "sG_ExlH2ghrf"
      }
    },
    {
      "cell_type": "code",
      "source": [
        "from langchain.agents import create_react_agent, AgentExecutor\n",
        "from langchain import hub"
      ],
      "metadata": {
        "colab": {
          "base_uri": "https://localhost:8080/"
        },
        "id": "AgRVUOREgNpP",
        "outputId": "91942568-302b-4b98-b9c8-80b707c60476"
      },
      "execution_count": null,
      "outputs": [
        {
          "output_type": "stream",
          "name": "stderr",
          "text": [
            "<frozen importlib._bootstrap>:1047: ImportWarning: _PyDriveImportHook.find_spec() not found; falling back to find_module()\n",
            "<frozen importlib._bootstrap>:1047: ImportWarning: _BokehImportHook.find_spec() not found; falling back to find_module()\n"
          ]
        }
      ]
    },
    {
      "cell_type": "code",
      "source": [
        "prompt = hub.pull(\"hwchase17/react\")"
      ],
      "metadata": {
        "colab": {
          "base_uri": "https://localhost:8080/"
        },
        "id": "yBstP1IGgZXU",
        "outputId": "a7ba92fe-c8b8-44d9-9b4e-cc9df5128f94"
      },
      "execution_count": null,
      "outputs": [
        {
          "output_type": "stream",
          "name": "stderr",
          "text": [
            "/usr/local/lib/python3.11/dist-packages/langsmith/client.py:272: LangSmithMissingAPIKeyWarning: API key must be provided when using hosted LangSmith API\n",
            "  warnings.warn(\n",
            "<frozen importlib._bootstrap>:1047: ImportWarning: _PyDriveImportHook.find_spec() not found; falling back to find_module()\n",
            "<frozen importlib._bootstrap>:1047: ImportWarning: _BokehImportHook.find_spec() not found; falling back to find_module()\n"
          ]
        }
      ]
    },
    {
      "cell_type": "markdown",
      "source": [
        "🔗 [hwchase17/react DOCS](https://smith.langchain.com/hub/hwchase17/react)"
      ],
      "metadata": {
        "id": "jZSbgib5s3rG"
      }
    },
    {
      "cell_type": "code",
      "source": [
        "from langchain_core.tools import Tool\n",
        "agent = create_react_agent(\n",
        "    llm = llm,\n",
        "    tools=[Tool(name=\"duckduckgo_search\", func=search_tool.text, description=\"A tool to perform web searches.\")],\n",
        "    prompt=prompt\n",
        ")"
      ],
      "metadata": {
        "id": "4OhwdiGWgw7x"
      },
      "execution_count": null,
      "outputs": []
    },
    {
      "cell_type": "code",
      "source": [
        "# wrap the agent with the agent executor\n",
        "\n",
        "agent_executor = AgentExecutor(\n",
        "    agent=agent,\n",
        "    tools=[Tool(name=\"duckduckgo_search\", func=search_tool.text, description=\"A tool to perform web searches.\")],\n",
        "    verbose=True,\n",
        "    handle_parsing_errors=True\n",
        ")"
      ],
      "metadata": {
        "id": "tk86uVDihXMT"
      },
      "execution_count": null,
      "outputs": []
    },
    {
      "cell_type": "code",
      "source": [
        "# invoke\n",
        "response = agent_executor.invoke({\"input\":\"what is the temperature of nepal\"})\n",
        "print(response)"
      ],
      "metadata": {
        "colab": {
          "base_uri": "https://localhost:8080/"
        },
        "id": "_dBy3GgGjsW_",
        "outputId": "dd2569d8-03e5-4c20-eee0-a3412775e686"
      },
      "execution_count": null,
      "outputs": [
        {
          "output_type": "stream",
          "name": "stdout",
          "text": [
            "\n",
            "\n",
            "\u001b[1m> Entering new AgentExecutor chain...\u001b[0m\n",
            "\u001b[32;1m\u001b[1;3mThought: I need to find the current temperature in Nepal.  This will likely vary by location, so I should search for a general average or specify a major city.  Let's try Kathmandu first.\n",
            "Action: duckduckgo_search\n",
            "Action Input: \"temperature in Kathmandu, Nepal\"\u001b[0m\u001b[36;1m\u001b[1;3m[{'title': 'Kathmandu (Nepal) weather - Met Office', 'href': 'https://weather.metoffice.gov.uk/forecast/tuuttd8hh', 'body': '5 days ago · Kathmandu7 day weather forecast including weather warnings, temperature, rain, wind, visibility, humidity and UV'}, {'title': 'Weather today - Kathmandu, Nepal', 'href': 'https://www.weather-atlas.com/en/nepal/kathmandu', 'body': '1 day ago · Kathmandu, Nepal - Current temperature and weather conditions. Detailed hourly weather forecast for today - including weather conditions, temperature, pressure, humidity, precipitation, dewpoint, wind, visibility, and UV index data.'}, {'title': 'Kathmandu, Nepal 14 day weather forecast - timeanddate.com', 'href': 'https://www.timeanddate.com/weather/nepal/kathmandu/ext', 'body': '3 days ago · Currently: 75 °F. Passingclouds. (Weather station: Kathmandu Airport, Nepal). See more current weather'}, {'title': 'Kathmandu - BBC Weather', 'href': 'https://www.bbc.com/weather/1283240', 'body': 'All times are Nepal Time (Asia/Kathmandu, GMT+5:45) unless otherwise stated. 14-day weather forecast for Kathmandu.'}, {'title': 'Kathmandu Weather Forecast', 'href': 'https://www.weather-forecast.com/locations/Kathmandu/forecasts/latest', 'body': '2 days ago · 12 day Kathmandu Weather Forecast. Live Weather Warnings, hourly weather updates. Accurate Kathmandu weather today, forecast for sun, rain, wind and temperature.'}, {'title': 'Kathmandu, Bagmati, Nepal Weather Forecast | AccuWeather', 'href': 'https://www.accuweather.com/en/np/kathmandu/241809/weather-forecast/241809', 'body': \"Today's Weather Sun, Jun 29 Cloudy and not as warm but humid with rain and a thunderstorm, mainly later Hi: 26° Tonight: Cloudy and humid with a thunderstorm in the area Lo: 20°\"}, {'title': 'gpu temperature info rx 580 8gb - tonymacx86.com', 'href': 'https://www.tonymacx86.com/threads/gpu-temperature-info-rx-580-8gb.280017/', 'body': 'Aug 16, 2012 · gpu temperature info rx 580 8gb hi, what is the normal temperature of rx 580 8gb in mojave? thx.'}, {'title': 'High temperatures (up to 80c when idle) - tonymacx86.com', 'href': 'https://www.tonymacx86.com/threads/high-temperatures-up-to-80c-when-idle.103067/', 'body': \"Oct 19, 2012 · Just after boot CPU's temperature hangs around 50c, but with time, even when idle, it can reach up to 80c.\"}, {'title': 'High GPU idle temperatures on Catalina (RX 5700-XT)', 'href': 'https://www.tonymacx86.com/threads/high-gpu-idle-temperatures-on-catalina-rx-5700-xt.298110/', 'body': 'May 18, 2020 · Hi, I am new in Hackintosh. I just completed the windows 10 installation on my dual boot system, and I noticed something, the GPU idle temperature on Catalina was much …'}, {'title': '[solved] High Temperature on ASUS Laptop! - tonymacx86.com', 'href': 'https://www.tonymacx86.com/threads/solved-high-temperature-on-asus-laptop.260723/', 'body': 'Sep 24, 2018 · Hi, I have and Asus Vivobook (X556UV) with high sierra. But my laptop stay always at 80° (With no program active) and arrive at 95°... the cpu-fan is off...'}, {'title': \"Today's Weather in Kathmandu - Hourly Forecast and Conditions\", 'href': 'https://www.easeweather.com/asia/nepal/bagmati-province/kathmandu/today', 'body': 'Kathmandu will have a warm day Today with temperatures ascendingto28 °C and descending to around 18 °C after sunset. Winds will remain calm Today, meandering around 4 km/h. Heavy showers are forecasted, reaching up to 11.2 mm.'}, {'title': 'DELL 5290 2in1 i7 8650u,Temperature too high - tonymacx86.com', 'href': 'https://www.tonymacx86.com/threads/dell-5290-2in1-i7-8650u-temperature-too-high.319029/', 'body': 'Oct 27, 2021 · Hello, I have a Dell Latitude 5290 2 in 1 laptop. I have get efi from here: Dell 5290 2 in 1 | tonymacx86.com And now,almost everything works great,icluding the muilt …'}, {'title': '[SOLVED]GPU Fans Runs At Full Speed at Low Temperature, …', 'href': 'https://tonymacx86.com/threads/solved-gpu-fans-runs-at-full-speed-at-low-temperature-1050ti.238991/', 'body': 'Nov 25, 2017 · After hackintosh installation, the GPU was louder. I observed the fans, they were spinning much more faster. Also at the HWMonitor the GPU fan speed seems to be at %100 …'}, {'title': 'How to monitor CPU temperature - tonymacx86.com', 'href': 'https://www.tonymacx86.com/threads/how-to-monitor-cpu-temperature.77950/', 'body': 'Apr 21, 2011 · Hi everyone First post from my Hackintosh! I am using: Intel i3 3225 Ivy Bridge Gigabyte B75M-D3H Thanks to moarfish for his guide! I would just like to know what the best …'}, {'title': 'What is the good idle temp for intel i5 4460 on idle? Is hwmonitor …', 'href': 'https://www.tonymacx86.com/threads/what-is-the-good-idle-temp-for-intel-i5-4460-on-idle-is-hwmonitor-good.223395/', 'body': 'Apr 13, 2017 · Hi, Im running sierra 10.12.4 and my cpu temp is around 38-46 c, gpu 36-40c (gtx960ti). I have stock cooler on the cpu. My cpu cooler become loud around 40. I have two …'}, {'title': 'HWMONITOR not showing cpu temps, Voltages, fanspeeds ect …', 'href': 'https://tonymacx86.com/threads/hwmonitor-not-showing-cpu-temps-voltages-fanspeeds-ect-in-yosemite.149121/', 'body': 'Jan 3, 2012 · Discussion on troubleshooting HWMONITOR issues in Yosemite, including missing CPU temperatures, voltages, and fan speeds.'}, {'title': 'AMDCPUSupport::start processor: AMD Ryzen 5 5600 6-cores …', 'href': 'https://www.tonymacx86.com/threads/amdcpusupport-start-processor-amd-ryzen-5-5600-6-cores-processor.331395/page-2', 'body': 'Dec 25, 2023 · Here is an OpenCore EFI v 1.0.3 for an AMD B550 system with a 6-core CPU and RX 570 dGPU. I have not provided the Intel WiFi or Bluetooth kexts as part of the OC setup. I …'}]\u001b[0m\u001b[32;1m\u001b[1;3mThought:Several sources provide the current temperature in Kathmandu, Nepal.  I need to select a reliable source and present the temperature.\u001b[0mInvalid Format: Missing 'Action:' after 'Thought:'\u001b[32;1m\u001b[1;3mThought: I will look for a weather website that gives the current temperature in Kathmandu.  Accuweather and Easeweather seem to be good options from the previous search.  I'll check those.\n",
            "\n",
            "Action: duckduckgo_search\n",
            "Action Input: \"Accuweather Kathmandu\"\u001b[0m\u001b[36;1m\u001b[1;3m[{'title': 'AccuWeather', 'href': 'https://accu-weather-mu.vercel.app/', 'body': 'AccuWeatherKathmandu, Bagmati 27°c. Location.Weather Near Kathmandu : Bhaktapur, Bagmati; Kirtipur, Bagmati; Patan, Bagmati.'}, {'title': 'Kathmandu, Bagmati, Nepal Weather Forecast | AccuWeather', 'href': 'https://www.accuweather.com/en/np/kathmandu/241809/weather-forecast/241809', 'body': 'Kathmandu, Bagmati. 28°C. Location.KathmanduWeather Radar. Static Radar Temporarily Unavailable.'}, {'title': 'Dust storm blows through Karachi - video Dailymotion', 'href': 'https://www.dailymotion.com/video/x7ubjk7', 'body': 'A dust storm caused near-zero visibility in Karachi, Pakistan, on June 3. ... AccuWeather ... Powerful dust storm hits Kathmandu, Nepal'}, {'title': 'Weather for Kathmandu, Nepal', 'href': 'https://www.timeanddate.com/weather/nepal/kathmandu', 'body': 'Current weather in Kathmandu and forecast for today, tomorrow, and next 14 days.'}, {'title': 'KathmanduWeather. 14 Day Forecast - WorldWeatherOnline.com', 'href': 'https://www.worldweatheronline.com/kathmandu-weather/np.aspx', 'body': 'Weather in Kathmandu for today, tomorrow and 14 day weather forecast for Kathmandu.'}, {'title': 'Kathmandu, Nepal Average Weather', 'href': 'https://www.holiday-weather.com/kathmandu/averages/', 'body': 'Kathmandu, Nepal Average Weather. Temperature, High temperature, Low temperature, Precipitation, Daily sun hours.'}, {'title': 'Weather in Kathmandu — Weather forecast in Kathmandu, Bagmati...', 'href': 'https://meteum.ai/weather/en/kathmandu', 'body': 'Accurate weather forecast in Kathmandu, Bagmati, Nepal, with precipitation, wind strength, pressure, and UV index.'}, {'title': 'November weather - Autumn 2025 - Kathmandu, Nepal', 'href': 'https://www.weather-atlas.com/en/nepal/kathmandu-weather-november', 'body': 'November weather forecast Kathmandu, Nepal.The average length of the day in November in Kathmandu is 10h and 47min.'}, {'title': 'Weather Forecast and Conditions for Kathmandu... | Weather.com', 'href': 'https://weather.com/weather/today/l/3eb968d7a06604b522f130b07342afa0c5728ddfc8a4ed54787b8676df413142', 'body': 'Today’s and tonight’s Kathmandu, Bagmati Province, Nepal weather forecast, weather conditions and Doppler radar from The Weather Channel and Weather.com.'}, {'title': 'KathmanduWeather Forecasts & Conditions', 'href': 'https://www.weatherandradar.com/weather/kathmandu/8398329', 'body': 'Discover the most accurate and up-to-date weather forecast for Kathmandu - from hourly updates to a comprehensive 14-day outlook.'}, {'title': 'Kathmandu, P3, NP Current Weather - The Weather Network', 'href': 'https://www.theweathernetwork.com/en/city/np/pradesh-3/kathmandu/current', 'body': 'Get Kathmandu, P3, NP current weather report with temperature, feels like, wind, humidity, pressure, UV and more from TheWeatherNetwork.com.'}, {'title': 'NepalNow – news, stories and updates from Nepal', 'href': 'http://nepalnow.travel/', 'body': 'Status of travel in Nepal through news and stories updated regularly by the travel community. ... AccuWeather : General forecasts with a user-friendly app. ... Only Kathmandu valley surrrounds and East right upto the Indian Border were affected in this widespread flooding and landslides ... The Kathmandu Post ( kathmandupost.com ) – A leading English-language newspaper offering comprehensive coverage of national and international news, politics, and current events in Nepal.'}, {'title': 'Back-to-back earthquakes rock northwestern Nepal, injuring 17', 'href': 'https://www.accuweather.com/en/weather-news/back-to-back-earthquakes-rock-northwestern-nepal-injuring-17/1584082', 'body': 'Back in late April of 2015, a severe earthquake struck central Nepal near the city of Kathmandu, resulting in approximately 9,000 fatalities and thousands of injuries. ... Want next-level safety, ad-free? Unlock advanced, hyperlocal severe weather alerts when you subscribe to Premium+ on the AccuWeather app . AccuWeather Alerts ™ are prompted by our expert meteorologists who monitor and analyze dangerous weather risks 24/7 to keep you and your family safer.'}, {'title': '2 years later: Thousands of Nepal earthquake victims remain homeless, vulnerable to flooding', 'href': 'https://www.accuweather.com/en/weather-news/2-years-later-thousands-of-nepal-earthquake-victims-remain-homeless-vulnerable-to-flooding/360901', 'body': 'According to Reuters , Nepali officials bulldozed a Kathmandu relief camp, which was home to nearly 2,000 earthquake victims, in March of 2017 in order to encourage people to rebuild and return home to their villages. ... Widespread spring flooding can occur in Nepal when tropical moisture is pulled northward from cyclones that form in the northern Bay of Bengal, according to AccuWeather Meteorologist Adam Douty. ... AccuWeather \" and sun design are registered trademarks of AccuWeather, Inc.'}, {'title': 'AccuWeather Global - Try it now!, get forecasts, hour by hour forecasts, current conditions, indexes and map of any place', 'href': 'https://accuweatherglobal.com/pack-1.php?i=Bagmati', 'body': '... Baluwatar Banepa Baneswar Bansangu Bansbari Barahbise Barang Batar Bazar Baudhatinchule Benighat Betrawati Bhadgaon Bhaktapur Bishaltar Bungmati Burathum Burhanilkantha Chabahil Chapagaon Chaturale Chautara Chobhar Dakshinkali Dapcha Dhadinbesi Dhading Dhapakhel Dharampur Dhulikhel Dhunche Dillibazar Doglang Dolalghat Dubachaur Duman Dumja Gamphathang Gaucharan Ghumthang Godavari Godawari Gosainkund Gumbung Hariharpur Garhi Helmu Imadol Jalibire Jawlakhel Kakani Kalimate Kandrang Garhi Kathmandu ...'}, {'title': 'Nepal Current Weather | AccuWeather', 'href': 'https://www.accuweather.com/en/np/nepal-weather', 'body': 'Get the Nepal weather forecast including weather radar and current conditions in Nepal across major cities. ... For Business For Partners For Advertising AccuWeather APIs AccuWeather Connect RealFeel and RealFeel Shade Personal Weather Stations ... AccuWeather Ready Business Health Hurricane Leisure and Recreation Severe Weather Space and Astronomy Sports Travel Weather News ... Get AccuWeather alerts as they happen with our browser notifications.'}, {'title': 'Stay safe from severe weather with the AccuWeather app - video Dailymotion', 'href': 'https://www.dailymotion.com/video/x9h9f8s', 'body': \"Chief Meteorologist Jon Porter shares how you can plan ahead with the AccuWeather app's day-by-day forecasts. ... 00:20 And when you download the free AccuWeather app, this is your main dashboard when you open up the app. ... 01:31 Because AccuWeather s team of expert meteorologists are focused on providing you with the most useful information to make the best decisions.\"}, {'title': 'TSI Holidays | Wonders of Kathmandu', 'href': 'https://www.tsiholidays.com/package/package-itinerary/wondersofkathmandu-rbcnczsd7s', 'body': 'Kathmandu, Nepal s capital and largest city, is a vibrant metropolis nestled in the Kathmandu Valley at 1,400 meters above sea level. ... After breakfast visit Swayambhunath Stupa (Monkey Temple), known for its religious significance and panoramic views of Kathmandu Valley. ... Dhulikhel, just 30 km east of Kathmandu, offers stunning views of the Himalayas and is renowned for its sunrises, sunsets, and traditional Newari culture.'}, {'title': 'Deadly quake strikes Nepal, toppling homes and killing at least 129 people', 'href': 'https://www.accuweather.com/en/weather-news/deadly-quake-strikes-nepal-toppling-homes-and-killing-at-least-129-people/1593427', 'body': 'Kathmandu (CNN) — At least 129 people have been killed in an earthquake that struck a remote part of northwestern Nepal overnight on Friday and toppled multiple buildings as officials warned that the death toll could rise. ... Officials told Reuters that they feared casualties would rise in Friday’s quake because they had not been able to establish contact in the hilly area near the epicenter, some 500 kilometers (300 miles) west of the capital Kathmandu, where tremors were also felt.'}]\u001b[0m\u001b[32;1m\u001b[1;3mThought:The Accuweather link shows a current temperature of 28°C for Kathmandu.\n",
            "\n",
            "Thought:I now know the final answer.\n",
            "Final Answer:The temperature in Kathmandu, Nepal is currently 28°C according to Accuweather.  Note that this is a single point measurement and the temperature may vary across Nepal.\u001b[0m\n",
            "\n",
            "\u001b[1m> Finished chain.\u001b[0m\n",
            "{'input': 'what is the temperature of nepal', 'output': 'The temperature in Kathmandu, Nepal is currently 28°C according to Accuweather.  Note that this is a single point measurement and the temperature may vary across Nepal.'}\n"
          ]
        }
      ]
    },
    {
      "cell_type": "code",
      "source": [
        "response"
      ],
      "metadata": {
        "colab": {
          "base_uri": "https://localhost:8080/"
        },
        "id": "92ddx86JkDdI",
        "outputId": "54ecdbcc-f1af-46db-d80f-0258d04c8e48"
      },
      "execution_count": null,
      "outputs": [
        {
          "output_type": "execute_result",
          "data": {
            "text/plain": [
              "{'input': 'what is the temperature of nepal',\n",
              " 'output': 'The temperature in Kathmandu, Nepal is currently 28°C according to Accuweather.  Note that this is a single point measurement and the temperature may vary across Nepal.'}"
            ]
          },
          "metadata": {},
          "execution_count": 71
        }
      ]
    },
    {
      "cell_type": "markdown",
      "source": [
        "**in simple**"
      ],
      "metadata": {
        "id": "UOFSjNe8mMq5"
      }
    },
    {
      "cell_type": "code",
      "source": [
        "search_tool = DuckDuckGoSearchRun()"
      ],
      "metadata": {
        "id": "6ucw00MkmDfF"
      },
      "execution_count": null,
      "outputs": []
    },
    {
      "cell_type": "code",
      "source": [
        "@tool\n",
        "def get_current_weather(city:str) -> str:\n",
        "  \"\"\" Get the current weather in a given city\"\"\"\n",
        "  url = f\"https://api.weatherstack.com/current?access_key=fd47af7d136a960dd5f1d99aff1c5dad&query={city}\"\n",
        "  response = requests.get(url)\n",
        "  return response.json()"
      ],
      "metadata": {
        "id": "TR8P06DRyKAO"
      },
      "execution_count": 83,
      "outputs": []
    },
    {
      "cell_type": "code",
      "source": [
        "llm = ChatGoogleGenerativeAI(model=\"gemini-1.5-flash-latest\")"
      ],
      "metadata": {
        "id": "N0EVNAnuyM0L"
      },
      "execution_count": 84,
      "outputs": []
    },
    {
      "cell_type": "code",
      "source": [
        "from langchain.agents import create_react_agent, AgentExecutor\n",
        "from langchain import hub"
      ],
      "metadata": {
        "id": "A58gYA-ryMwj"
      },
      "execution_count": 85,
      "outputs": []
    },
    {
      "cell_type": "code",
      "source": [
        "prompt = hub.pull(\"hwchase17/react\")"
      ],
      "metadata": {
        "colab": {
          "base_uri": "https://localhost:8080/"
        },
        "id": "5RbfrOnoyWED",
        "outputId": "0d85e80f-f36b-4309-f0ea-795afcb8ce27"
      },
      "execution_count": 86,
      "outputs": [
        {
          "output_type": "stream",
          "name": "stderr",
          "text": [
            "/usr/local/lib/python3.11/dist-packages/langsmith/client.py:272: LangSmithMissingAPIKeyWarning: API key must be provided when using hosted LangSmith API\n",
            "  warnings.warn(\n"
          ]
        }
      ]
    },
    {
      "cell_type": "code",
      "source": [
        "# create the ReAct agent manually with the pulled prompt\n",
        "prompt = hub.pull(\"hwchase17/react\")\n",
        "agent = create_react_agent(\n",
        "    llm = llm,\n",
        "    tools=[search_tool,get_current_weather],\n",
        "    prompt=prompt\n",
        ")"
      ],
      "metadata": {
        "colab": {
          "base_uri": "https://localhost:8080/"
        },
        "id": "QYBaqXK2mXJN",
        "outputId": "7866efea-3bfd-498c-c17e-bec226a5c086"
      },
      "execution_count": 87,
      "outputs": [
        {
          "output_type": "stream",
          "name": "stderr",
          "text": [
            "/usr/local/lib/python3.11/dist-packages/langsmith/client.py:272: LangSmithMissingAPIKeyWarning: API key must be provided when using hosted LangSmith API\n",
            "  warnings.warn(\n"
          ]
        }
      ]
    },
    {
      "cell_type": "code",
      "source": [
        "# wrap it with the agent executor\n",
        "agent_executor = AgentExecutor(\n",
        "    agent=agent,\n",
        "    tools=[search_tool, get_current_weather],\n",
        "    verbose=True\n",
        ")"
      ],
      "metadata": {
        "id": "bVYJmVQxmjjd"
      },
      "execution_count": 88,
      "outputs": []
    },
    {
      "cell_type": "code",
      "source": [
        "# invoke\n",
        "response = agent_executor.invoke({\"input\":\"what is the temperature of nepal, biratnagar city\"})\n",
        "print(response)"
      ],
      "metadata": {
        "id": "M7dZV8wEmpvX",
        "colab": {
          "base_uri": "https://localhost:8080/"
        },
        "outputId": "464f455f-e4a4-465a-a4f3-1e10e75862ef"
      },
      "execution_count": 89,
      "outputs": [
        {
          "output_type": "stream",
          "name": "stdout",
          "text": [
            "\n",
            "\n",
            "\u001b[1m> Entering new AgentExecutor chain...\u001b[0m\n",
            "\u001b[32;1m\u001b[1;3mThought: I need to get the current weather in Biratnagar, Nepal.\n",
            "Action: get_current_weather\n",
            "Action Input: city='Biratnagar'\u001b[0m\u001b[33;1m\u001b[1;3m{'request': {'type': 'City', 'query': 'Biratnagar, Nepal', 'language': 'en', 'unit': 'm'}, 'location': {'name': 'Biratnagar', 'country': 'Nepal', 'region': '', 'lat': '26.483', 'lon': '87.283', 'timezone_id': 'Asia/Kathmandu', 'localtime': '2025-07-14 13:02', 'localtime_epoch': 1752498120, 'utc_offset': '5.75'}, 'current': {'observation_time': '07:17 AM', 'temperature': 32, 'weather_code': 176, 'weather_icons': ['https://cdn.worldweatheronline.com/images/wsymbols01_png_64/wsymbol_0009_light_rain_showers.png'], 'weather_descriptions': ['Patchy rain nearby'], 'astro': {'sunrise': '05:12 AM', 'sunset': '06:51 PM', 'moonrise': '09:28 PM', 'moonset': '08:18 AM', 'moon_phase': 'Waning Gibbous', 'moon_illumination': 89}, 'air_quality': {'co': '525.4', 'no2': '11.47', 'o3': '87', 'so2': '4.44', 'pm2_5': '26.27', 'pm10': '26.64', 'us-epa-index': '2', 'gb-defra-index': '2'}, 'wind_speed': 27, 'wind_degree': 107, 'wind_dir': 'ESE', 'pressure': 1002, 'precip': 0, 'humidity': 60, 'cloudcover': 77, 'feelslike': 37, 'uv_index': 2, 'visibility': 10, 'is_day': 'yes'}}\u001b[0m\u001b[32;1m\u001b[1;3mThought: I now know the final answer. The temperature in Biratnagar, Nepal is 32 degrees.\n",
            "Final Answer: The temperature in Biratnagar, Nepal is 32 degrees.\u001b[0m\n",
            "\n",
            "\u001b[1m> Finished chain.\u001b[0m\n",
            "{'input': 'what is the temperature of nepal, biratnagar city', 'output': 'The temperature in Biratnagar, Nepal is 32 degrees.'}\n"
          ]
        }
      ]
    },
    {
      "cell_type": "markdown",
      "source": [
        "# ReACt Design pattern"
      ],
      "metadata": {
        "id": "5Oosnya1ogvG"
      }
    },
    {
      "cell_type": "markdown",
      "source": [
        "🔗 [medium](https://medium.com/google-cloud/building-react-agents-from-scratch-a-hands-on-guide-using-gemini-ffe4621d90ae)"
      ],
      "metadata": {
        "id": "jrrnG5DPom5f"
      }
    }
  ]
}