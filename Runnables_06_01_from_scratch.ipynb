{
  "cells": [
    {
      "attachments": {},
      "cell_type": "markdown",
      "metadata": {
        "id": "Z3VIvCJYsz96"
      },
      "source": [
        "# lets create a class for the DUMMY LLM"
      ]
    },
    {
      "cell_type": "code",
      "execution_count": 2,
      "metadata": {
        "id": "WbpNmJt-jMFv"
      },
      "outputs": [],
      "source": [
        "import random\n",
        "\n",
        "class MyFirstLLM:\n",
        "\n",
        "  def __init__(self):\n",
        "    print(\"LLM created\")\n",
        "\n",
        "  def predict(self, prompt):\n",
        "\n",
        "    response_list = [\n",
        "        \"Kathmandu is the capital of NEPAL\",\n",
        "        \"NPL is a cricket league\",\n",
        "        \"AI stands for Artificial Intelligence\"\n",
        "    ]\n",
        "    return { \"response\": random.choice(response_list)}"
      ]
    },
    {
      "cell_type": "code",
      "execution_count": 6,
      "metadata": {
        "colab": {
          "base_uri": "https://localhost:8080/"
        },
        "id": "Mx1rQgCzr0pB",
        "outputId": "8b681c06-38d4-49f5-bfab-e02393e40d3f"
      },
      "outputs": [
        {
          "name": "stdout",
          "output_type": "stream",
          "text": [
            "LLM created\n"
          ]
        },
        {
          "data": {
            "text/plain": [
              "{'response': 'Kathmandu is the capital of NEPAL'}"
            ]
          },
          "execution_count": 6,
          "metadata": {},
          "output_type": "execute_result"
        }
      ],
      "source": [
        "llm = MyFirstLLM()\n",
        "llm.predict(\"what is the capital of nepal?\")"
      ]
    },
    {
      "attachments": {},
      "cell_type": "markdown",
      "metadata": {
        "id": "sfgKzp5os6Qm"
      },
      "source": [
        "# prompt template"
      ]
    },
    {
      "cell_type": "code",
      "execution_count": 13,
      "metadata": {
        "id": "aSSkP8UQsq80"
      },
      "outputs": [],
      "source": [
        "class PromptTemplate:\n",
        "\n",
        "  def __init__(self, template, input_variables):\n",
        "\n",
        "    self.template = template\n",
        "    self.input_variables = input_variables\n",
        "\n",
        "  def format(self, input_dict):\n",
        "    return self.template.format(**input_dict)"
      ]
    },
    {
      "cell_type": "code",
      "execution_count": 17,
      "metadata": {
        "id": "Ubi5DrlCtaw9"
      },
      "outputs": [],
      "source": [
        "template = PromptTemplate(\n",
        "    template=\"write a {length} poem about {topic}\",\n",
        "    input_variables=[\"topic\", \"length\"]\n",
        ")"
      ]
    },
    {
      "cell_type": "code",
      "execution_count": 20,
      "metadata": {
        "id": "zWody5yxto03"
      },
      "outputs": [],
      "source": [
        "prompt = template.format({\"topic\":\"AI\", \"length\":\"short\"})"
      ]
    },
    {
      "cell_type": "code",
      "execution_count": 21,
      "metadata": {
        "colab": {
          "base_uri": "https://localhost:8080/"
        },
        "id": "dTSlKTvDtyEb",
        "outputId": "86e5db15-2522-488f-c557-81d6166cedd5"
      },
      "outputs": [
        {
          "name": "stdout",
          "output_type": "stream",
          "text": [
            "LLM created\n"
          ]
        }
      ],
      "source": [
        "llm = MyFirstLLM()"
      ]
    },
    {
      "cell_type": "code",
      "execution_count": 24,
      "metadata": {
        "colab": {
          "base_uri": "https://localhost:8080/"
        },
        "id": "9S17l4R0upHD",
        "outputId": "32c7df61-e808-4350-c822-a99561cfb86e"
      },
      "outputs": [
        {
          "data": {
            "text/plain": [
              "{'response': 'AI stands for Artificial Intelligence'}"
            ]
          },
          "execution_count": 24,
          "metadata": {},
          "output_type": "execute_result"
        }
      ],
      "source": [
        "llm.predict(prompt)"
      ]
    },
    {
      "attachments": {},
      "cell_type": "markdown",
      "metadata": {
        "id": "nTF7zwDgvnE3"
      },
      "source": [
        "# lets byuild a dupli llm chain"
      ]
    },
    {
      "cell_type": "code",
      "execution_count": 25,
      "metadata": {
        "id": "gKM5gwffu1u8"
      },
      "outputs": [],
      "source": [
        "class DupliLLMChain:\n",
        "\n",
        "  def __init__(self, llm , prompt):\n",
        "    self.llm = llm\n",
        "    self.prompt = prompt\n",
        "\n",
        "  def run(self, input_dict):\n",
        "\n",
        "    final_prompt = self.prompt.format(input_dict)\n",
        "    result = self.llm.predict(final_prompt)\n",
        "\n",
        "\n",
        "    return result['response']\n"
      ]
    },
    {
      "cell_type": "code",
      "execution_count": 26,
      "metadata": {
        "id": "Kyu2GboIwoqb"
      },
      "outputs": [],
      "source": [
        "template = PromptTemplate(\n",
        "    template=\"write a {length} poem about {topic}\",\n",
        "    input_variables=[\"topic\", \"length\"]\n",
        ")"
      ]
    },
    {
      "cell_type": "code",
      "execution_count": 27,
      "metadata": {
        "colab": {
          "base_uri": "https://localhost:8080/"
        },
        "id": "qKGRFHC7xEdb",
        "outputId": "5a953eab-a310-4dec-96de-bc8322f4cfea"
      },
      "outputs": [
        {
          "name": "stdout",
          "output_type": "stream",
          "text": [
            "LLM created\n"
          ]
        }
      ],
      "source": [
        "llm = MyFirstLLM()"
      ]
    },
    {
      "cell_type": "code",
      "execution_count": 28,
      "metadata": {
        "id": "m63yDAoVxGWg"
      },
      "outputs": [],
      "source": [
        "chain = DupliLLMChain(llm, template)"
      ]
    },
    {
      "cell_type": "code",
      "execution_count": 29,
      "metadata": {
        "colab": {
          "base_uri": "https://localhost:8080/",
          "height": 36
        },
        "id": "-hkGpk4kxKVW",
        "outputId": "0dbd1021-24ea-4602-e829-bf9eab6fa566"
      },
      "outputs": [
        {
          "data": {
            "application/vnd.google.colaboratory.intrinsic+json": {
              "type": "string"
            },
            "text/plain": [
              "'AI stands for Artificial Intelligence'"
            ]
          },
          "execution_count": 29,
          "metadata": {},
          "output_type": "execute_result"
        }
      ],
      "source": [
        "chain.run({\"topic\":\"AI\", \"length\":\"short\"})"
      ]
    },
    {
      "attachments": {},
      "cell_type": "markdown",
      "metadata": {
        "id": "ArTXQFlvxyq5"
      },
      "source": [
        "# lets solve this problem using abstractions ie making the standarization in chains"
      ]
    },
    {
      "cell_type": "code",
      "execution_count": 32,
      "metadata": {
        "id": "IFcOr6s8yaoU"
      },
      "outputs": [],
      "source": [
        "from abc import ABC , abstractmethod"
      ]
    },
    {
      "cell_type": "code",
      "execution_count": 33,
      "metadata": {
        "id": "VlnysIrIyak2"
      },
      "outputs": [],
      "source": [
        "class Runnable(ABC):\n",
        "\n",
        "  @abstractmethod\n",
        "  def invoke(self, input_data):\n",
        "    pass"
      ]
    },
    {
      "cell_type": "code",
      "execution_count": 36,
      "metadata": {
        "id": "uCxMRYtbxM9K"
      },
      "outputs": [],
      "source": [
        "import random\n",
        "\n",
        "class MyFirstLLM(Runnable):\n",
        "\n",
        "  def __init__(self):\n",
        "    print(\"LLM created\")\n",
        "\n",
        "\n",
        "  def invoke(self, prompt):\n",
        "    response_list = [\n",
        "        \"Kathmandu is the capital of NEPAL\",\n",
        "        \"NPL is a cricket league\",\n",
        "        \"AI stands for Artificial Intelligence\"\n",
        "    ]\n",
        "    return { \"response\": random.choice(response_list)}\n",
        "\n",
        "\n",
        "  def predict(self, prompt):\n",
        "\n",
        "    response_list = [\n",
        "        \"Kathmandu is the capital of NEPAL\",\n",
        "        \"NPL is a cricket league\",\n",
        "        \"AI stands for Artificial Intelligence\"\n",
        "    ]\n",
        "    return { \"response\": random.choice(response_list)}"
      ]
    },
    {
      "cell_type": "code",
      "execution_count": 37,
      "metadata": {
        "id": "8pkMWcb2x7FG"
      },
      "outputs": [],
      "source": [
        "class PromptTemplate(Runnable):\n",
        "\n",
        "  def __init__(self, template, input_variables):\n",
        "\n",
        "    self.template = template\n",
        "    self.input_variables = input_variables\n",
        "\n",
        "\n",
        "  def invoke(self, input_dict):\n",
        "    return self.template.format(**input_dict)\n",
        "\n",
        "  def format(self, input_dict):\n",
        "    return self.template.format(**input_dict)\n",
        "\n",
        "\n"
      ]
    },
    {
      "cell_type": "code",
      "execution_count": 48,
      "metadata": {
        "id": "vOSm66iM1yBT"
      },
      "outputs": [],
      "source": [
        "class DupliOutputParser(Runnable):\n",
        "\n",
        "  def __init__(self):\n",
        "   pass\n",
        "\n",
        "  def invoke(self, input_data):\n",
        "    return input_data['response']"
      ]
    },
    {
      "cell_type": "code",
      "execution_count": 39,
      "metadata": {
        "id": "bHD-wJiax66k"
      },
      "outputs": [],
      "source": [
        "class RunnableConnector(Runnable):\n",
        "\n",
        "  def __init__(self, runnable_list):\n",
        "    self.runnable_list = runnable_list\n",
        "\n",
        "  def invoke(self, input_data):\n",
        "    for runnable in self.runnable_list:\n",
        "      input_data = runnable.invoke(input_data)\n",
        "\n",
        "    return input_data"
      ]
    },
    {
      "cell_type": "code",
      "execution_count": 40,
      "metadata": {
        "id": "8DzhUIl81CzM"
      },
      "outputs": [],
      "source": [
        "template = PromptTemplate(\n",
        "    template=\"write a {length} poem about {topic}\",\n",
        "    input_variables=[\"topic\", \"length\"]\n",
        ")"
      ]
    },
    {
      "cell_type": "code",
      "execution_count": 41,
      "metadata": {
        "colab": {
          "base_uri": "https://localhost:8080/"
        },
        "id": "bDIeBs2w1CuM",
        "outputId": "3b34da25-78ff-4abf-a419-83880601e301"
      },
      "outputs": [
        {
          "name": "stdout",
          "output_type": "stream",
          "text": [
            "LLM created\n"
          ]
        }
      ],
      "source": [
        "llm = MyFirstLLM()"
      ]
    },
    {
      "cell_type": "code",
      "execution_count": 49,
      "metadata": {
        "id": "okQo6d1_2U3x"
      },
      "outputs": [],
      "source": [
        "parser = DupliOutputParser()"
      ]
    },
    {
      "cell_type": "code",
      "execution_count": 51,
      "metadata": {
        "id": "kRWJc81p0TOI"
      },
      "outputs": [],
      "source": [
        "chain = RunnableConnector([template, llm, parser])"
      ]
    },
    {
      "cell_type": "code",
      "execution_count": 52,
      "metadata": {
        "colab": {
          "base_uri": "https://localhost:8080/",
          "height": 36
        },
        "id": "ZqmMqfQ71TdD",
        "outputId": "afdec9b5-7c46-407a-b124-c3dea4979e75"
      },
      "outputs": [
        {
          "data": {
            "application/vnd.google.colaboratory.intrinsic+json": {
              "type": "string"
            },
            "text/plain": [
              "'Kathmandu is the capital of NEPAL'"
            ]
          },
          "execution_count": 52,
          "metadata": {},
          "output_type": "execute_result"
        }
      ],
      "source": [
        "chain.invoke({\"length\":\"long\", \"topic\":\"Nepal\"})"
      ]
    },
    {
      "cell_type": "code",
      "execution_count": 53,
      "metadata": {
        "id": "Kf6Xkok91dlj"
      },
      "outputs": [],
      "source": [
        "#"
      ]
    },
    {
      "cell_type": "code",
      "execution_count": 54,
      "metadata": {
        "id": "4s0fRGwz3k27"
      },
      "outputs": [],
      "source": [
        "template1 = PromptTemplate(\n",
        "    template=\"write a Joke about {topic}\",\n",
        "    input_variables=[\"topic\"]\n",
        ")"
      ]
    },
    {
      "cell_type": "code",
      "execution_count": 55,
      "metadata": {
        "id": "BbvqkXSF3sUQ"
      },
      "outputs": [],
      "source": [
        "template2 = PromptTemplate(\n",
        "    template=\"Explain the following joke {response}\",\n",
        "    input_variables=[\"response\"]\n",
        ")"
      ]
    },
    {
      "cell_type": "code",
      "execution_count": 56,
      "metadata": {
        "colab": {
          "base_uri": "https://localhost:8080/"
        },
        "id": "EvYF_Lza35RA",
        "outputId": "e5527eb1-56b8-4a34-beb9-1fc52097ab31"
      },
      "outputs": [
        {
          "name": "stdout",
          "output_type": "stream",
          "text": [
            "LLM created\n"
          ]
        }
      ],
      "source": [
        "llm = MyFirstLLM()"
      ]
    },
    {
      "cell_type": "code",
      "execution_count": 57,
      "metadata": {
        "id": "D-Msjust38lr"
      },
      "outputs": [],
      "source": [
        "parser = DupliOutputParser()"
      ]
    },
    {
      "cell_type": "code",
      "execution_count": 58,
      "metadata": {
        "id": "A2GVlknu4AjB"
      },
      "outputs": [],
      "source": [
        "chain1 = RunnableConnector([template1, llm,])"
      ]
    },
    {
      "cell_type": "code",
      "execution_count": 61,
      "metadata": {
        "id": "54_xg4DB4K7J"
      },
      "outputs": [],
      "source": [
        "chain2 = RunnableConnector([template2, llm, parser])"
      ]
    },
    {
      "cell_type": "code",
      "execution_count": 63,
      "metadata": {
        "colab": {
          "base_uri": "https://localhost:8080/",
          "height": 36
        },
        "id": "OLxHIwiv4XOg",
        "outputId": "3329a4a7-59a2-4d8a-cbee-14c50524a7f2"
      },
      "outputs": [
        {
          "data": {
            "application/vnd.google.colaboratory.intrinsic+json": {
              "type": "string"
            },
            "text/plain": [
              "'AI stands for Artificial Intelligence'"
            ]
          },
          "execution_count": 63,
          "metadata": {},
          "output_type": "execute_result"
        }
      ],
      "source": [
        "chain2.invoke({\"response\":\"this is a joke\"})"
      ]
    },
    {
      "cell_type": "code",
      "execution_count": 64,
      "metadata": {
        "id": "UiVpkmZJ4dDy"
      },
      "outputs": [],
      "source": [
        "final_chain = RunnableConnector([chain1, chain2])"
      ]
    },
    {
      "cell_type": "code",
      "execution_count": 65,
      "metadata": {
        "colab": {
          "base_uri": "https://localhost:8080/",
          "height": 36
        },
        "id": "0F7zfp384nxB",
        "outputId": "ad4bec51-c66b-4a9c-ba6a-ba2d3d581c25"
      },
      "outputs": [
        {
          "data": {
            "application/vnd.google.colaboratory.intrinsic+json": {
              "type": "string"
            },
            "text/plain": [
              "'AI stands for Artificial Intelligence'"
            ]
          },
          "execution_count": 65,
          "metadata": {},
          "output_type": "execute_result"
        }
      ],
      "source": [
        "final_chain.invoke({\"topic\":\"football\"})"
      ]
    },
    {
      "cell_type": "code",
      "execution_count": null,
      "metadata": {
        "id": "FAtnhm1-4sgY"
      },
      "outputs": [],
      "source": []
    }
  ],
  "metadata": {
    "colab": {
      "provenance": []
    },
    "kernelspec": {
      "display_name": "Python 3",
      "name": "python3"
    },
    "language_info": {
      "name": "python"
    }
  },
  "nbformat": 4,
  "nbformat_minor": 0
}
